{
 "cells": [
  {
   "cell_type": "code",
   "execution_count": 1,
   "metadata": {},
   "outputs": [],
   "source": [
    "import numpy as np\n",
    "import pandas as pd\n",
    "\n",
    "\n",
    "from sklearn import preprocessing\n",
    "from sklearn.preprocessing import (StandardScaler, OrdinalEncoder,LabelEncoder, MinMaxScaler, OneHotEncoder)\n",
    "from sklearn.feature_extraction.text import CountVectorizer\n",
    "from sklearn.preprocessing import Normalizer, MaxAbsScaler , RobustScaler, PowerTransformer\n",
    "\n",
    "\n",
    "import matplotlib.pyplot as plt\n",
    "import matplotlib\n",
    "import seaborn as sns\n",
    "#set visualization requirements\n",
    "%matplotlib inline\n",
    "sns.set_style('darkgrid')\n",
    "matplotlib.rcParams['font.size'] = 14\n",
    "matplotlib.rcParams['figure.figsize'] = (10, 5)\n",
    "matplotlib.rcParams['figure.facecolor'] = '#00000000'\n",
    "\n",
    "\n",
    "from sklearn.ensemble import RandomForestRegressor, RandomForestClassifier\n",
    "\n",
    "\n",
    "from sklearn.svm import SVC\n",
    "from sklearn.neighbors import KNeighborsClassifier\n",
    "from sklearn.discriminant_analysis import LinearDiscriminantAnalysis\n",
    "from sklearn.discriminant_analysis import QuadraticDiscriminantAnalysis\n",
    "\n",
    "from sklearn import metrics\n",
    "from sklearn.metrics import accuracy_score\n",
    "from sklearn.model_selection import train_test_split\n",
    "from sklearn.metrics import classification_report\n",
    "\n",
    "from sklearn.metrics import precision_score\n",
    "from sklearn.metrics import recall_score\n",
    "from sklearn.metrics import f1_score\n",
    "\n",
    "from sklearn.metrics import roc_auc_score\n",
    "from sklearn.metrics import roc_curve, auc\n",
    "\n",
    "import tensorflow as tf\n",
    "from tensorflow.keras.utils import to_categorical"
   ]
  },
  {
   "cell_type": "code",
   "execution_count": 2,
   "metadata": {},
   "outputs": [],
   "source": [
    "## filter warnings\n",
    "\n",
    "import warnings\n",
    "warnings.filterwarnings('ignore')"
   ]
  },
  {
   "cell_type": "code",
   "execution_count": 3,
   "metadata": {},
   "outputs": [],
   "source": [
    "feature=[\"duration\",\"protocol_type\",\"service\",\"flag\",\"src_bytes\",\"dst_bytes\",\"land\",\"wrong_fragment\",\"urgent\",\"hot\",\n",
    "          \"num_failed_logins\",\"logged_in\",\"num_compromised\",\"root_shell\",\"su_attempted\",\"num_root\",\"num_file_creations\",\"num_shells\",\n",
    "          \"num_access_files\",\"num_outbound_cmds\",\"is_host_login\",\"is_guest_login\",\"count\",\"srv_count\",\"serror_rate\",\"srv_serror_rate\",\n",
    "          \"rerror_rate\",\"srv_rerror_rate\",\"same_srv_rate\",\"diff_srv_rate\",\"srv_diff_host_rate\",\"dst_host_count\",\"dst_host_srv_count\", \n",
    "          \"dst_host_same_srv_rate\",\"dst_host_diff_srv_rate\",\"dst_host_same_src_port_rate\",\"dst_host_srv_diff_host_rate\",\"dst_host_serror_rate\",\n",
    "          \"dst_host_srv_serror_rate\",\"dst_host_rerror_rate\",\"dst_host_srv_rerror_rate\",\"label\",\"difficulty\"]"
   ]
  },
  {
   "cell_type": "code",
   "execution_count": 4,
   "metadata": {},
   "outputs": [
    {
     "data": {
      "text/html": [
       "<div>\n",
       "<style scoped>\n",
       "    .dataframe tbody tr th:only-of-type {\n",
       "        vertical-align: middle;\n",
       "    }\n",
       "\n",
       "    .dataframe tbody tr th {\n",
       "        vertical-align: top;\n",
       "    }\n",
       "\n",
       "    .dataframe thead th {\n",
       "        text-align: right;\n",
       "    }\n",
       "</style>\n",
       "<table border=\"1\" class=\"dataframe\">\n",
       "  <thead>\n",
       "    <tr style=\"text-align: right;\">\n",
       "      <th></th>\n",
       "      <th>duration</th>\n",
       "      <th>protocol_type</th>\n",
       "      <th>service</th>\n",
       "      <th>flag</th>\n",
       "      <th>src_bytes</th>\n",
       "      <th>dst_bytes</th>\n",
       "      <th>land</th>\n",
       "      <th>wrong_fragment</th>\n",
       "      <th>urgent</th>\n",
       "      <th>hot</th>\n",
       "      <th>...</th>\n",
       "      <th>dst_host_same_srv_rate</th>\n",
       "      <th>dst_host_diff_srv_rate</th>\n",
       "      <th>dst_host_same_src_port_rate</th>\n",
       "      <th>dst_host_srv_diff_host_rate</th>\n",
       "      <th>dst_host_serror_rate</th>\n",
       "      <th>dst_host_srv_serror_rate</th>\n",
       "      <th>dst_host_rerror_rate</th>\n",
       "      <th>dst_host_srv_rerror_rate</th>\n",
       "      <th>label</th>\n",
       "      <th>difficulty</th>\n",
       "    </tr>\n",
       "  </thead>\n",
       "  <tbody>\n",
       "    <tr>\n",
       "      <th>0</th>\n",
       "      <td>0</td>\n",
       "      <td>tcp</td>\n",
       "      <td>ftp_data</td>\n",
       "      <td>SF</td>\n",
       "      <td>491</td>\n",
       "      <td>0</td>\n",
       "      <td>0</td>\n",
       "      <td>0</td>\n",
       "      <td>0</td>\n",
       "      <td>0</td>\n",
       "      <td>...</td>\n",
       "      <td>0.17</td>\n",
       "      <td>0.03</td>\n",
       "      <td>0.17</td>\n",
       "      <td>0.00</td>\n",
       "      <td>0.00</td>\n",
       "      <td>0.00</td>\n",
       "      <td>0.05</td>\n",
       "      <td>0.00</td>\n",
       "      <td>normal</td>\n",
       "      <td>20</td>\n",
       "    </tr>\n",
       "    <tr>\n",
       "      <th>1</th>\n",
       "      <td>0</td>\n",
       "      <td>udp</td>\n",
       "      <td>other</td>\n",
       "      <td>SF</td>\n",
       "      <td>146</td>\n",
       "      <td>0</td>\n",
       "      <td>0</td>\n",
       "      <td>0</td>\n",
       "      <td>0</td>\n",
       "      <td>0</td>\n",
       "      <td>...</td>\n",
       "      <td>0.00</td>\n",
       "      <td>0.60</td>\n",
       "      <td>0.88</td>\n",
       "      <td>0.00</td>\n",
       "      <td>0.00</td>\n",
       "      <td>0.00</td>\n",
       "      <td>0.00</td>\n",
       "      <td>0.00</td>\n",
       "      <td>normal</td>\n",
       "      <td>15</td>\n",
       "    </tr>\n",
       "    <tr>\n",
       "      <th>2</th>\n",
       "      <td>0</td>\n",
       "      <td>tcp</td>\n",
       "      <td>private</td>\n",
       "      <td>S0</td>\n",
       "      <td>0</td>\n",
       "      <td>0</td>\n",
       "      <td>0</td>\n",
       "      <td>0</td>\n",
       "      <td>0</td>\n",
       "      <td>0</td>\n",
       "      <td>...</td>\n",
       "      <td>0.10</td>\n",
       "      <td>0.05</td>\n",
       "      <td>0.00</td>\n",
       "      <td>0.00</td>\n",
       "      <td>1.00</td>\n",
       "      <td>1.00</td>\n",
       "      <td>0.00</td>\n",
       "      <td>0.00</td>\n",
       "      <td>neptune</td>\n",
       "      <td>19</td>\n",
       "    </tr>\n",
       "    <tr>\n",
       "      <th>3</th>\n",
       "      <td>0</td>\n",
       "      <td>tcp</td>\n",
       "      <td>http</td>\n",
       "      <td>SF</td>\n",
       "      <td>232</td>\n",
       "      <td>8153</td>\n",
       "      <td>0</td>\n",
       "      <td>0</td>\n",
       "      <td>0</td>\n",
       "      <td>0</td>\n",
       "      <td>...</td>\n",
       "      <td>1.00</td>\n",
       "      <td>0.00</td>\n",
       "      <td>0.03</td>\n",
       "      <td>0.04</td>\n",
       "      <td>0.03</td>\n",
       "      <td>0.01</td>\n",
       "      <td>0.00</td>\n",
       "      <td>0.01</td>\n",
       "      <td>normal</td>\n",
       "      <td>21</td>\n",
       "    </tr>\n",
       "    <tr>\n",
       "      <th>4</th>\n",
       "      <td>0</td>\n",
       "      <td>tcp</td>\n",
       "      <td>http</td>\n",
       "      <td>SF</td>\n",
       "      <td>199</td>\n",
       "      <td>420</td>\n",
       "      <td>0</td>\n",
       "      <td>0</td>\n",
       "      <td>0</td>\n",
       "      <td>0</td>\n",
       "      <td>...</td>\n",
       "      <td>1.00</td>\n",
       "      <td>0.00</td>\n",
       "      <td>0.00</td>\n",
       "      <td>0.00</td>\n",
       "      <td>0.00</td>\n",
       "      <td>0.00</td>\n",
       "      <td>0.00</td>\n",
       "      <td>0.00</td>\n",
       "      <td>normal</td>\n",
       "      <td>21</td>\n",
       "    </tr>\n",
       "  </tbody>\n",
       "</table>\n",
       "<p>5 rows × 43 columns</p>\n",
       "</div>"
      ],
      "text/plain": [
       "   duration protocol_type   service flag  src_bytes  dst_bytes  land  \\\n",
       "0         0           tcp  ftp_data   SF        491          0     0   \n",
       "1         0           udp     other   SF        146          0     0   \n",
       "2         0           tcp   private   S0          0          0     0   \n",
       "3         0           tcp      http   SF        232       8153     0   \n",
       "4         0           tcp      http   SF        199        420     0   \n",
       "\n",
       "   wrong_fragment  urgent  hot  ...  dst_host_same_srv_rate  \\\n",
       "0               0       0    0  ...                    0.17   \n",
       "1               0       0    0  ...                    0.00   \n",
       "2               0       0    0  ...                    0.10   \n",
       "3               0       0    0  ...                    1.00   \n",
       "4               0       0    0  ...                    1.00   \n",
       "\n",
       "   dst_host_diff_srv_rate  dst_host_same_src_port_rate  \\\n",
       "0                    0.03                         0.17   \n",
       "1                    0.60                         0.88   \n",
       "2                    0.05                         0.00   \n",
       "3                    0.00                         0.03   \n",
       "4                    0.00                         0.00   \n",
       "\n",
       "   dst_host_srv_diff_host_rate  dst_host_serror_rate  \\\n",
       "0                         0.00                  0.00   \n",
       "1                         0.00                  0.00   \n",
       "2                         0.00                  1.00   \n",
       "3                         0.04                  0.03   \n",
       "4                         0.00                  0.00   \n",
       "\n",
       "   dst_host_srv_serror_rate  dst_host_rerror_rate  dst_host_srv_rerror_rate  \\\n",
       "0                      0.00                  0.05                      0.00   \n",
       "1                      0.00                  0.00                      0.00   \n",
       "2                      1.00                  0.00                      0.00   \n",
       "3                      0.01                  0.00                      0.01   \n",
       "4                      0.00                  0.00                      0.00   \n",
       "\n",
       "     label  difficulty  \n",
       "0   normal          20  \n",
       "1   normal          15  \n",
       "2  neptune          19  \n",
       "3   normal          21  \n",
       "4   normal          21  \n",
       "\n",
       "[5 rows x 43 columns]"
      ]
     },
     "execution_count": 4,
     "metadata": {},
     "output_type": "execute_result"
    }
   ],
   "source": [
    "df = pd.read_csv(\"KDDTrain+_20Percent.txt\", names=feature)\n",
    "df.head()"
   ]
  },
  {
   "cell_type": "code",
   "execution_count": 5,
   "metadata": {},
   "outputs": [
    {
     "data": {
      "text/plain": [
       "(25192, 43)"
      ]
     },
     "execution_count": 5,
     "metadata": {},
     "output_type": "execute_result"
    }
   ],
   "source": [
    "df.shape # data columns number and rows number"
   ]
  },
  {
   "cell_type": "code",
   "execution_count": 6,
   "metadata": {},
   "outputs": [
    {
     "name": "stdout",
     "output_type": "stream",
     "text": [
      "<class 'pandas.core.frame.DataFrame'>\n",
      "RangeIndex: 25192 entries, 0 to 25191\n",
      "Data columns (total 43 columns):\n",
      " #   Column                       Non-Null Count  Dtype  \n",
      "---  ------                       --------------  -----  \n",
      " 0   duration                     25192 non-null  int64  \n",
      " 1   protocol_type                25192 non-null  object \n",
      " 2   service                      25192 non-null  object \n",
      " 3   flag                         25192 non-null  object \n",
      " 4   src_bytes                    25192 non-null  int64  \n",
      " 5   dst_bytes                    25192 non-null  int64  \n",
      " 6   land                         25192 non-null  int64  \n",
      " 7   wrong_fragment               25192 non-null  int64  \n",
      " 8   urgent                       25192 non-null  int64  \n",
      " 9   hot                          25192 non-null  int64  \n",
      " 10  num_failed_logins            25192 non-null  int64  \n",
      " 11  logged_in                    25192 non-null  int64  \n",
      " 12  num_compromised              25192 non-null  int64  \n",
      " 13  root_shell                   25192 non-null  int64  \n",
      " 14  su_attempted                 25192 non-null  int64  \n",
      " 15  num_root                     25192 non-null  int64  \n",
      " 16  num_file_creations           25192 non-null  int64  \n",
      " 17  num_shells                   25192 non-null  int64  \n",
      " 18  num_access_files             25192 non-null  int64  \n",
      " 19  num_outbound_cmds            25192 non-null  int64  \n",
      " 20  is_host_login                25192 non-null  int64  \n",
      " 21  is_guest_login               25192 non-null  int64  \n",
      " 22  count                        25192 non-null  int64  \n",
      " 23  srv_count                    25192 non-null  int64  \n",
      " 24  serror_rate                  25192 non-null  float64\n",
      " 25  srv_serror_rate              25192 non-null  float64\n",
      " 26  rerror_rate                  25192 non-null  float64\n",
      " 27  srv_rerror_rate              25192 non-null  float64\n",
      " 28  same_srv_rate                25192 non-null  float64\n",
      " 29  diff_srv_rate                25192 non-null  float64\n",
      " 30  srv_diff_host_rate           25192 non-null  float64\n",
      " 31  dst_host_count               25192 non-null  int64  \n",
      " 32  dst_host_srv_count           25192 non-null  int64  \n",
      " 33  dst_host_same_srv_rate       25192 non-null  float64\n",
      " 34  dst_host_diff_srv_rate       25192 non-null  float64\n",
      " 35  dst_host_same_src_port_rate  25192 non-null  float64\n",
      " 36  dst_host_srv_diff_host_rate  25192 non-null  float64\n",
      " 37  dst_host_serror_rate         25192 non-null  float64\n",
      " 38  dst_host_srv_serror_rate     25192 non-null  float64\n",
      " 39  dst_host_rerror_rate         25192 non-null  float64\n",
      " 40  dst_host_srv_rerror_rate     25192 non-null  float64\n",
      " 41  label                        25192 non-null  object \n",
      " 42  difficulty                   25192 non-null  int64  \n",
      "dtypes: float64(15), int64(24), object(4)\n",
      "memory usage: 8.3+ MB\n"
     ]
    }
   ],
   "source": [
    "df.info()"
   ]
  },
  {
   "cell_type": "code",
   "execution_count": 7,
   "metadata": {},
   "outputs": [
    {
     "data": {
      "text/html": [
       "<div>\n",
       "<style scoped>\n",
       "    .dataframe tbody tr th:only-of-type {\n",
       "        vertical-align: middle;\n",
       "    }\n",
       "\n",
       "    .dataframe tbody tr th {\n",
       "        vertical-align: top;\n",
       "    }\n",
       "\n",
       "    .dataframe thead th {\n",
       "        text-align: right;\n",
       "    }\n",
       "</style>\n",
       "<table border=\"1\" class=\"dataframe\">\n",
       "  <thead>\n",
       "    <tr style=\"text-align: right;\">\n",
       "      <th></th>\n",
       "      <th>count</th>\n",
       "      <th>mean</th>\n",
       "      <th>std</th>\n",
       "      <th>min</th>\n",
       "      <th>25%</th>\n",
       "      <th>50%</th>\n",
       "      <th>75%</th>\n",
       "      <th>max</th>\n",
       "    </tr>\n",
       "  </thead>\n",
       "  <tbody>\n",
       "    <tr>\n",
       "      <th>duration</th>\n",
       "      <td>25192.0</td>\n",
       "      <td>305.054104</td>\n",
       "      <td>2.686556e+03</td>\n",
       "      <td>0.0</td>\n",
       "      <td>0.00</td>\n",
       "      <td>0.00</td>\n",
       "      <td>0.00</td>\n",
       "      <td>42862.0</td>\n",
       "    </tr>\n",
       "    <tr>\n",
       "      <th>src_bytes</th>\n",
       "      <td>25192.0</td>\n",
       "      <td>24330.628215</td>\n",
       "      <td>2.410805e+06</td>\n",
       "      <td>0.0</td>\n",
       "      <td>0.00</td>\n",
       "      <td>44.00</td>\n",
       "      <td>279.00</td>\n",
       "      <td>381709090.0</td>\n",
       "    </tr>\n",
       "    <tr>\n",
       "      <th>dst_bytes</th>\n",
       "      <td>25192.0</td>\n",
       "      <td>3491.847174</td>\n",
       "      <td>8.883072e+04</td>\n",
       "      <td>0.0</td>\n",
       "      <td>0.00</td>\n",
       "      <td>0.00</td>\n",
       "      <td>530.25</td>\n",
       "      <td>5151385.0</td>\n",
       "    </tr>\n",
       "    <tr>\n",
       "      <th>land</th>\n",
       "      <td>25192.0</td>\n",
       "      <td>0.000079</td>\n",
       "      <td>8.909946e-03</td>\n",
       "      <td>0.0</td>\n",
       "      <td>0.00</td>\n",
       "      <td>0.00</td>\n",
       "      <td>0.00</td>\n",
       "      <td>1.0</td>\n",
       "    </tr>\n",
       "    <tr>\n",
       "      <th>wrong_fragment</th>\n",
       "      <td>25192.0</td>\n",
       "      <td>0.023738</td>\n",
       "      <td>2.602208e-01</td>\n",
       "      <td>0.0</td>\n",
       "      <td>0.00</td>\n",
       "      <td>0.00</td>\n",
       "      <td>0.00</td>\n",
       "      <td>3.0</td>\n",
       "    </tr>\n",
       "    <tr>\n",
       "      <th>urgent</th>\n",
       "      <td>25192.0</td>\n",
       "      <td>0.000040</td>\n",
       "      <td>6.300408e-03</td>\n",
       "      <td>0.0</td>\n",
       "      <td>0.00</td>\n",
       "      <td>0.00</td>\n",
       "      <td>0.00</td>\n",
       "      <td>1.0</td>\n",
       "    </tr>\n",
       "    <tr>\n",
       "      <th>hot</th>\n",
       "      <td>25192.0</td>\n",
       "      <td>0.198039</td>\n",
       "      <td>2.154202e+00</td>\n",
       "      <td>0.0</td>\n",
       "      <td>0.00</td>\n",
       "      <td>0.00</td>\n",
       "      <td>0.00</td>\n",
       "      <td>77.0</td>\n",
       "    </tr>\n",
       "    <tr>\n",
       "      <th>num_failed_logins</th>\n",
       "      <td>25192.0</td>\n",
       "      <td>0.001191</td>\n",
       "      <td>4.541818e-02</td>\n",
       "      <td>0.0</td>\n",
       "      <td>0.00</td>\n",
       "      <td>0.00</td>\n",
       "      <td>0.00</td>\n",
       "      <td>4.0</td>\n",
       "    </tr>\n",
       "    <tr>\n",
       "      <th>logged_in</th>\n",
       "      <td>25192.0</td>\n",
       "      <td>0.394768</td>\n",
       "      <td>4.888105e-01</td>\n",
       "      <td>0.0</td>\n",
       "      <td>0.00</td>\n",
       "      <td>0.00</td>\n",
       "      <td>1.00</td>\n",
       "      <td>1.0</td>\n",
       "    </tr>\n",
       "    <tr>\n",
       "      <th>num_compromised</th>\n",
       "      <td>25192.0</td>\n",
       "      <td>0.227850</td>\n",
       "      <td>1.041735e+01</td>\n",
       "      <td>0.0</td>\n",
       "      <td>0.00</td>\n",
       "      <td>0.00</td>\n",
       "      <td>0.00</td>\n",
       "      <td>884.0</td>\n",
       "    </tr>\n",
       "    <tr>\n",
       "      <th>root_shell</th>\n",
       "      <td>25192.0</td>\n",
       "      <td>0.001548</td>\n",
       "      <td>3.931635e-02</td>\n",
       "      <td>0.0</td>\n",
       "      <td>0.00</td>\n",
       "      <td>0.00</td>\n",
       "      <td>0.00</td>\n",
       "      <td>1.0</td>\n",
       "    </tr>\n",
       "    <tr>\n",
       "      <th>su_attempted</th>\n",
       "      <td>25192.0</td>\n",
       "      <td>0.001350</td>\n",
       "      <td>4.878505e-02</td>\n",
       "      <td>0.0</td>\n",
       "      <td>0.00</td>\n",
       "      <td>0.00</td>\n",
       "      <td>0.00</td>\n",
       "      <td>2.0</td>\n",
       "    </tr>\n",
       "    <tr>\n",
       "      <th>num_root</th>\n",
       "      <td>25192.0</td>\n",
       "      <td>0.249841</td>\n",
       "      <td>1.150084e+01</td>\n",
       "      <td>0.0</td>\n",
       "      <td>0.00</td>\n",
       "      <td>0.00</td>\n",
       "      <td>0.00</td>\n",
       "      <td>975.0</td>\n",
       "    </tr>\n",
       "    <tr>\n",
       "      <th>num_file_creations</th>\n",
       "      <td>25192.0</td>\n",
       "      <td>0.014727</td>\n",
       "      <td>5.296023e-01</td>\n",
       "      <td>0.0</td>\n",
       "      <td>0.00</td>\n",
       "      <td>0.00</td>\n",
       "      <td>0.00</td>\n",
       "      <td>40.0</td>\n",
       "    </tr>\n",
       "    <tr>\n",
       "      <th>num_shells</th>\n",
       "      <td>25192.0</td>\n",
       "      <td>0.000357</td>\n",
       "      <td>1.889822e-02</td>\n",
       "      <td>0.0</td>\n",
       "      <td>0.00</td>\n",
       "      <td>0.00</td>\n",
       "      <td>0.00</td>\n",
       "      <td>1.0</td>\n",
       "    </tr>\n",
       "    <tr>\n",
       "      <th>num_access_files</th>\n",
       "      <td>25192.0</td>\n",
       "      <td>0.004327</td>\n",
       "      <td>9.852398e-02</td>\n",
       "      <td>0.0</td>\n",
       "      <td>0.00</td>\n",
       "      <td>0.00</td>\n",
       "      <td>0.00</td>\n",
       "      <td>8.0</td>\n",
       "    </tr>\n",
       "    <tr>\n",
       "      <th>num_outbound_cmds</th>\n",
       "      <td>25192.0</td>\n",
       "      <td>0.000000</td>\n",
       "      <td>0.000000e+00</td>\n",
       "      <td>0.0</td>\n",
       "      <td>0.00</td>\n",
       "      <td>0.00</td>\n",
       "      <td>0.00</td>\n",
       "      <td>0.0</td>\n",
       "    </tr>\n",
       "    <tr>\n",
       "      <th>is_host_login</th>\n",
       "      <td>25192.0</td>\n",
       "      <td>0.000000</td>\n",
       "      <td>0.000000e+00</td>\n",
       "      <td>0.0</td>\n",
       "      <td>0.00</td>\n",
       "      <td>0.00</td>\n",
       "      <td>0.00</td>\n",
       "      <td>0.0</td>\n",
       "    </tr>\n",
       "    <tr>\n",
       "      <th>is_guest_login</th>\n",
       "      <td>25192.0</td>\n",
       "      <td>0.009130</td>\n",
       "      <td>9.511512e-02</td>\n",
       "      <td>0.0</td>\n",
       "      <td>0.00</td>\n",
       "      <td>0.00</td>\n",
       "      <td>0.00</td>\n",
       "      <td>1.0</td>\n",
       "    </tr>\n",
       "    <tr>\n",
       "      <th>count</th>\n",
       "      <td>25192.0</td>\n",
       "      <td>84.591180</td>\n",
       "      <td>1.146735e+02</td>\n",
       "      <td>1.0</td>\n",
       "      <td>2.00</td>\n",
       "      <td>14.00</td>\n",
       "      <td>144.00</td>\n",
       "      <td>511.0</td>\n",
       "    </tr>\n",
       "    <tr>\n",
       "      <th>srv_count</th>\n",
       "      <td>25192.0</td>\n",
       "      <td>27.698754</td>\n",
       "      <td>7.246824e+01</td>\n",
       "      <td>1.0</td>\n",
       "      <td>2.00</td>\n",
       "      <td>8.00</td>\n",
       "      <td>18.00</td>\n",
       "      <td>511.0</td>\n",
       "    </tr>\n",
       "    <tr>\n",
       "      <th>serror_rate</th>\n",
       "      <td>25192.0</td>\n",
       "      <td>0.286338</td>\n",
       "      <td>4.473123e-01</td>\n",
       "      <td>0.0</td>\n",
       "      <td>0.00</td>\n",
       "      <td>0.00</td>\n",
       "      <td>1.00</td>\n",
       "      <td>1.0</td>\n",
       "    </tr>\n",
       "    <tr>\n",
       "      <th>srv_serror_rate</th>\n",
       "      <td>25192.0</td>\n",
       "      <td>0.283762</td>\n",
       "      <td>4.475989e-01</td>\n",
       "      <td>0.0</td>\n",
       "      <td>0.00</td>\n",
       "      <td>0.00</td>\n",
       "      <td>1.00</td>\n",
       "      <td>1.0</td>\n",
       "    </tr>\n",
       "    <tr>\n",
       "      <th>rerror_rate</th>\n",
       "      <td>25192.0</td>\n",
       "      <td>0.118630</td>\n",
       "      <td>3.187455e-01</td>\n",
       "      <td>0.0</td>\n",
       "      <td>0.00</td>\n",
       "      <td>0.00</td>\n",
       "      <td>0.00</td>\n",
       "      <td>1.0</td>\n",
       "    </tr>\n",
       "    <tr>\n",
       "      <th>srv_rerror_rate</th>\n",
       "      <td>25192.0</td>\n",
       "      <td>0.120260</td>\n",
       "      <td>3.223354e-01</td>\n",
       "      <td>0.0</td>\n",
       "      <td>0.00</td>\n",
       "      <td>0.00</td>\n",
       "      <td>0.00</td>\n",
       "      <td>1.0</td>\n",
       "    </tr>\n",
       "    <tr>\n",
       "      <th>same_srv_rate</th>\n",
       "      <td>25192.0</td>\n",
       "      <td>0.660559</td>\n",
       "      <td>4.396374e-01</td>\n",
       "      <td>0.0</td>\n",
       "      <td>0.09</td>\n",
       "      <td>1.00</td>\n",
       "      <td>1.00</td>\n",
       "      <td>1.0</td>\n",
       "    </tr>\n",
       "    <tr>\n",
       "      <th>diff_srv_rate</th>\n",
       "      <td>25192.0</td>\n",
       "      <td>0.062363</td>\n",
       "      <td>1.785500e-01</td>\n",
       "      <td>0.0</td>\n",
       "      <td>0.00</td>\n",
       "      <td>0.00</td>\n",
       "      <td>0.06</td>\n",
       "      <td>1.0</td>\n",
       "    </tr>\n",
       "    <tr>\n",
       "      <th>srv_diff_host_rate</th>\n",
       "      <td>25192.0</td>\n",
       "      <td>0.095931</td>\n",
       "      <td>2.565828e-01</td>\n",
       "      <td>0.0</td>\n",
       "      <td>0.00</td>\n",
       "      <td>0.00</td>\n",
       "      <td>0.00</td>\n",
       "      <td>1.0</td>\n",
       "    </tr>\n",
       "    <tr>\n",
       "      <th>dst_host_count</th>\n",
       "      <td>25192.0</td>\n",
       "      <td>182.532074</td>\n",
       "      <td>9.899390e+01</td>\n",
       "      <td>0.0</td>\n",
       "      <td>84.00</td>\n",
       "      <td>255.00</td>\n",
       "      <td>255.00</td>\n",
       "      <td>255.0</td>\n",
       "    </tr>\n",
       "    <tr>\n",
       "      <th>dst_host_srv_count</th>\n",
       "      <td>25192.0</td>\n",
       "      <td>115.063036</td>\n",
       "      <td>1.106469e+02</td>\n",
       "      <td>0.0</td>\n",
       "      <td>10.00</td>\n",
       "      <td>61.00</td>\n",
       "      <td>255.00</td>\n",
       "      <td>255.0</td>\n",
       "    </tr>\n",
       "    <tr>\n",
       "      <th>dst_host_same_srv_rate</th>\n",
       "      <td>25192.0</td>\n",
       "      <td>0.519791</td>\n",
       "      <td>4.489439e-01</td>\n",
       "      <td>0.0</td>\n",
       "      <td>0.05</td>\n",
       "      <td>0.51</td>\n",
       "      <td>1.00</td>\n",
       "      <td>1.0</td>\n",
       "    </tr>\n",
       "    <tr>\n",
       "      <th>dst_host_diff_srv_rate</th>\n",
       "      <td>25192.0</td>\n",
       "      <td>0.082539</td>\n",
       "      <td>1.871911e-01</td>\n",
       "      <td>0.0</td>\n",
       "      <td>0.00</td>\n",
       "      <td>0.03</td>\n",
       "      <td>0.07</td>\n",
       "      <td>1.0</td>\n",
       "    </tr>\n",
       "    <tr>\n",
       "      <th>dst_host_same_src_port_rate</th>\n",
       "      <td>25192.0</td>\n",
       "      <td>0.147453</td>\n",
       "      <td>3.083666e-01</td>\n",
       "      <td>0.0</td>\n",
       "      <td>0.00</td>\n",
       "      <td>0.00</td>\n",
       "      <td>0.06</td>\n",
       "      <td>1.0</td>\n",
       "    </tr>\n",
       "    <tr>\n",
       "      <th>dst_host_srv_diff_host_rate</th>\n",
       "      <td>25192.0</td>\n",
       "      <td>0.031844</td>\n",
       "      <td>1.105750e-01</td>\n",
       "      <td>0.0</td>\n",
       "      <td>0.00</td>\n",
       "      <td>0.00</td>\n",
       "      <td>0.02</td>\n",
       "      <td>1.0</td>\n",
       "    </tr>\n",
       "    <tr>\n",
       "      <th>dst_host_serror_rate</th>\n",
       "      <td>25192.0</td>\n",
       "      <td>0.285800</td>\n",
       "      <td>4.453165e-01</td>\n",
       "      <td>0.0</td>\n",
       "      <td>0.00</td>\n",
       "      <td>0.00</td>\n",
       "      <td>1.00</td>\n",
       "      <td>1.0</td>\n",
       "    </tr>\n",
       "    <tr>\n",
       "      <th>dst_host_srv_serror_rate</th>\n",
       "      <td>25192.0</td>\n",
       "      <td>0.279846</td>\n",
       "      <td>4.460753e-01</td>\n",
       "      <td>0.0</td>\n",
       "      <td>0.00</td>\n",
       "      <td>0.00</td>\n",
       "      <td>1.00</td>\n",
       "      <td>1.0</td>\n",
       "    </tr>\n",
       "    <tr>\n",
       "      <th>dst_host_rerror_rate</th>\n",
       "      <td>25192.0</td>\n",
       "      <td>0.117800</td>\n",
       "      <td>3.058692e-01</td>\n",
       "      <td>0.0</td>\n",
       "      <td>0.00</td>\n",
       "      <td>0.00</td>\n",
       "      <td>0.00</td>\n",
       "      <td>1.0</td>\n",
       "    </tr>\n",
       "    <tr>\n",
       "      <th>dst_host_srv_rerror_rate</th>\n",
       "      <td>25192.0</td>\n",
       "      <td>0.118769</td>\n",
       "      <td>3.173335e-01</td>\n",
       "      <td>0.0</td>\n",
       "      <td>0.00</td>\n",
       "      <td>0.00</td>\n",
       "      <td>0.00</td>\n",
       "      <td>1.0</td>\n",
       "    </tr>\n",
       "    <tr>\n",
       "      <th>difficulty</th>\n",
       "      <td>25192.0</td>\n",
       "      <td>19.487695</td>\n",
       "      <td>2.328541e+00</td>\n",
       "      <td>0.0</td>\n",
       "      <td>18.00</td>\n",
       "      <td>20.00</td>\n",
       "      <td>21.00</td>\n",
       "      <td>21.0</td>\n",
       "    </tr>\n",
       "  </tbody>\n",
       "</table>\n",
       "</div>"
      ],
      "text/plain": [
       "                               count          mean           std  min    25%  \\\n",
       "duration                     25192.0    305.054104  2.686556e+03  0.0   0.00   \n",
       "src_bytes                    25192.0  24330.628215  2.410805e+06  0.0   0.00   \n",
       "dst_bytes                    25192.0   3491.847174  8.883072e+04  0.0   0.00   \n",
       "land                         25192.0      0.000079  8.909946e-03  0.0   0.00   \n",
       "wrong_fragment               25192.0      0.023738  2.602208e-01  0.0   0.00   \n",
       "urgent                       25192.0      0.000040  6.300408e-03  0.0   0.00   \n",
       "hot                          25192.0      0.198039  2.154202e+00  0.0   0.00   \n",
       "num_failed_logins            25192.0      0.001191  4.541818e-02  0.0   0.00   \n",
       "logged_in                    25192.0      0.394768  4.888105e-01  0.0   0.00   \n",
       "num_compromised              25192.0      0.227850  1.041735e+01  0.0   0.00   \n",
       "root_shell                   25192.0      0.001548  3.931635e-02  0.0   0.00   \n",
       "su_attempted                 25192.0      0.001350  4.878505e-02  0.0   0.00   \n",
       "num_root                     25192.0      0.249841  1.150084e+01  0.0   0.00   \n",
       "num_file_creations           25192.0      0.014727  5.296023e-01  0.0   0.00   \n",
       "num_shells                   25192.0      0.000357  1.889822e-02  0.0   0.00   \n",
       "num_access_files             25192.0      0.004327  9.852398e-02  0.0   0.00   \n",
       "num_outbound_cmds            25192.0      0.000000  0.000000e+00  0.0   0.00   \n",
       "is_host_login                25192.0      0.000000  0.000000e+00  0.0   0.00   \n",
       "is_guest_login               25192.0      0.009130  9.511512e-02  0.0   0.00   \n",
       "count                        25192.0     84.591180  1.146735e+02  1.0   2.00   \n",
       "srv_count                    25192.0     27.698754  7.246824e+01  1.0   2.00   \n",
       "serror_rate                  25192.0      0.286338  4.473123e-01  0.0   0.00   \n",
       "srv_serror_rate              25192.0      0.283762  4.475989e-01  0.0   0.00   \n",
       "rerror_rate                  25192.0      0.118630  3.187455e-01  0.0   0.00   \n",
       "srv_rerror_rate              25192.0      0.120260  3.223354e-01  0.0   0.00   \n",
       "same_srv_rate                25192.0      0.660559  4.396374e-01  0.0   0.09   \n",
       "diff_srv_rate                25192.0      0.062363  1.785500e-01  0.0   0.00   \n",
       "srv_diff_host_rate           25192.0      0.095931  2.565828e-01  0.0   0.00   \n",
       "dst_host_count               25192.0    182.532074  9.899390e+01  0.0  84.00   \n",
       "dst_host_srv_count           25192.0    115.063036  1.106469e+02  0.0  10.00   \n",
       "dst_host_same_srv_rate       25192.0      0.519791  4.489439e-01  0.0   0.05   \n",
       "dst_host_diff_srv_rate       25192.0      0.082539  1.871911e-01  0.0   0.00   \n",
       "dst_host_same_src_port_rate  25192.0      0.147453  3.083666e-01  0.0   0.00   \n",
       "dst_host_srv_diff_host_rate  25192.0      0.031844  1.105750e-01  0.0   0.00   \n",
       "dst_host_serror_rate         25192.0      0.285800  4.453165e-01  0.0   0.00   \n",
       "dst_host_srv_serror_rate     25192.0      0.279846  4.460753e-01  0.0   0.00   \n",
       "dst_host_rerror_rate         25192.0      0.117800  3.058692e-01  0.0   0.00   \n",
       "dst_host_srv_rerror_rate     25192.0      0.118769  3.173335e-01  0.0   0.00   \n",
       "difficulty                   25192.0     19.487695  2.328541e+00  0.0  18.00   \n",
       "\n",
       "                                50%     75%          max  \n",
       "duration                       0.00    0.00      42862.0  \n",
       "src_bytes                     44.00  279.00  381709090.0  \n",
       "dst_bytes                      0.00  530.25    5151385.0  \n",
       "land                           0.00    0.00          1.0  \n",
       "wrong_fragment                 0.00    0.00          3.0  \n",
       "urgent                         0.00    0.00          1.0  \n",
       "hot                            0.00    0.00         77.0  \n",
       "num_failed_logins              0.00    0.00          4.0  \n",
       "logged_in                      0.00    1.00          1.0  \n",
       "num_compromised                0.00    0.00        884.0  \n",
       "root_shell                     0.00    0.00          1.0  \n",
       "su_attempted                   0.00    0.00          2.0  \n",
       "num_root                       0.00    0.00        975.0  \n",
       "num_file_creations             0.00    0.00         40.0  \n",
       "num_shells                     0.00    0.00          1.0  \n",
       "num_access_files               0.00    0.00          8.0  \n",
       "num_outbound_cmds              0.00    0.00          0.0  \n",
       "is_host_login                  0.00    0.00          0.0  \n",
       "is_guest_login                 0.00    0.00          1.0  \n",
       "count                         14.00  144.00        511.0  \n",
       "srv_count                      8.00   18.00        511.0  \n",
       "serror_rate                    0.00    1.00          1.0  \n",
       "srv_serror_rate                0.00    1.00          1.0  \n",
       "rerror_rate                    0.00    0.00          1.0  \n",
       "srv_rerror_rate                0.00    0.00          1.0  \n",
       "same_srv_rate                  1.00    1.00          1.0  \n",
       "diff_srv_rate                  0.00    0.06          1.0  \n",
       "srv_diff_host_rate             0.00    0.00          1.0  \n",
       "dst_host_count               255.00  255.00        255.0  \n",
       "dst_host_srv_count            61.00  255.00        255.0  \n",
       "dst_host_same_srv_rate         0.51    1.00          1.0  \n",
       "dst_host_diff_srv_rate         0.03    0.07          1.0  \n",
       "dst_host_same_src_port_rate    0.00    0.06          1.0  \n",
       "dst_host_srv_diff_host_rate    0.00    0.02          1.0  \n",
       "dst_host_serror_rate           0.00    1.00          1.0  \n",
       "dst_host_srv_serror_rate       0.00    1.00          1.0  \n",
       "dst_host_rerror_rate           0.00    0.00          1.0  \n",
       "dst_host_srv_rerror_rate       0.00    0.00          1.0  \n",
       "difficulty                    20.00   21.00         21.0  "
      ]
     },
     "execution_count": 7,
     "metadata": {},
     "output_type": "execute_result"
    }
   ],
   "source": [
    "df.describe().T"
   ]
  },
  {
   "cell_type": "code",
   "execution_count": 8,
   "metadata": {},
   "outputs": [
    {
     "data": {
      "text/plain": [
       "normal             13449\n",
       "neptune             8282\n",
       "ipsweep              710\n",
       "satan                691\n",
       "portsweep            587\n",
       "smurf                529\n",
       "nmap                 301\n",
       "back                 196\n",
       "teardrop             188\n",
       "warezclient          181\n",
       "pod                   38\n",
       "guess_passwd          10\n",
       "warezmaster            7\n",
       "buffer_overflow        6\n",
       "imap                   5\n",
       "rootkit                4\n",
       "phf                    2\n",
       "multihop               2\n",
       "spy                    1\n",
       "land                   1\n",
       "ftp_write              1\n",
       "loadmodule             1\n",
       "Name: label, dtype: int64"
      ]
     },
     "execution_count": 8,
     "metadata": {},
     "output_type": "execute_result"
    }
   ],
   "source": [
    "# number of attack labels \n",
    "df['label'].value_counts()"
   ]
  },
  {
   "cell_type": "code",
   "execution_count": 9,
   "metadata": {},
   "outputs": [
    {
     "data": {
      "image/png": "[encoded data removed]",
      "text/plain": [
       "<Figure size 720x360 with 1 Axes>"
      ]
     },
     "metadata": {
      "needs_background": "light"
     },
     "output_type": "display_data"
    }
   ],
   "source": [
    "plt.figure(figsize=(10,5))\n",
    "chart = sns.countplot(x='label', data=df, color='blue')\n",
    "chart.set_xticklabels(chart.get_xticklabels(), rotation=90)\n",
    "plt.show()"
   ]
  },
  {
   "cell_type": "markdown",
   "metadata": {},
   "source": [
    "### Attacks can further be grouped into 4 groups\n",
    "> DoS is an attack that tries to shut down traffic flow to and from the target system. Because of the unusually high volume of traffic, the IDS must shut down in order to defend itself. This stops regular traffic from accessing a network. When an online store receives a large volume of orders on a day when there is a huge discount, the network may become overwhelmed and shut down, preventing paying consumers from making any purchases. In the data set, this attack occurs the most frequently.<br>\n",
    "\n",
    "> An attack that tries to gather information from a network is called a probe or surveillance. Whether it's financial information or customer personal information, the objective is to pose as a thief and steal vital information.<br>\n",
    "\n",
    "> A U2R attack begins with a regular user account and attempts to log into the system or network as a super-user (root). To acquire access or root privileges, the attacker tries to use a system's weaknesses.<br>\n",
    "\n",
    ">An assault known as R2L seeks to acquire physical access to a distant machine. An attacker attempts to \"hack\" their way into the network even if they do not have local access to the system or network.<br>"
   ]
  },
  {
   "cell_type": "markdown",
   "metadata": {},
   "source": [
    "## EDA"
   ]
  },
  {
   "cell_type": "markdown",
   "metadata": {},
   "source": [
    "## Univariate analysis\n",
    "### Target variable"
   ]
  },
  {
   "cell_type": "code",
   "execution_count": 10,
   "metadata": {},
   "outputs": [],
   "source": [
    "# changing attack labels to their respective attack class\n",
    "def group_labels(df):\n",
    "    df.label.replace(['apache2','back','land','neptune','mailbomb','pod','processtable','smurf','teardrop','udpstorm','worm'],'Dos',inplace=True)\n",
    "    df.label.replace(['ftp_write','guess_passwd','httptunnel','imap','multihop','named','phf','sendmail','snmpgetattack','snmpguess','spy','warezclient','warezmaster','xlock','xsnoop'],'R2L',inplace=True)      \n",
    "    df.label.replace(['ipsweep','mscan','nmap','portsweep','saint','satan'],'Probe',inplace=True)\n",
    "    df.label.replace(['buffer_overflow','loadmodule','perl','ps','rootkit','sqlattack','xterm'],'U2R',inplace=True)\n",
    "\n",
    "group_labels(df)"
   ]
  },
  {
   "cell_type": "code",
   "execution_count": 11,
   "metadata": {},
   "outputs": [],
   "source": [
    "def without_hue(plot, feature):\n",
    "    total = len(feature)\n",
    "    for p in plot.patches:\n",
    "        percentage = '{:.1f}%'.format(100 * p.get_height()/total)\n",
    "        x = p.get_x() + p.get_width() / 2 - 0.05\n",
    "        y = p.get_y() + p.get_height()\n",
    "        ax.annotate(percentage, (x, y), size = 12)\n",
    "    plt.show()"
   ]
  },
  {
   "cell_type": "code",
   "execution_count": 12,
   "metadata": {},
   "outputs": [
    {
     "data": {
      "image/png": "[encoded data removed]",
      "text/plain": [
       "<Figure size 720x360 with 1 Axes>"
      ]
     },
     "metadata": {
      "needs_background": "light"
     },
     "output_type": "display_data"
    }
   ],
   "source": [
    "plt.figure(figsize=(10,5))\n",
    "chart = sns.countplot(x='label', data=df, color='blue')\n",
    "chart.set_xticklabels(chart.get_xticklabels(), rotation=90)\n",
    "plt.show()"
   ]
  },
  {
   "cell_type": "code",
   "execution_count": 13,
   "metadata": {},
   "outputs": [
    {
     "data": {
      "text/plain": [
       "normal    13449\n",
       "Dos        9234\n",
       "Probe      2289\n",
       "R2L         209\n",
       "U2R          11\n",
       "Name: label, dtype: int64"
      ]
     },
     "execution_count": 13,
     "metadata": {},
     "output_type": "execute_result"
    }
   ],
   "source": [
    "# distribution of attack classes\n",
    "df.label.value_counts()"
   ]
  },
  {
   "cell_type": "markdown",
   "metadata": {},
   "source": [
    "### Group label column into normal access and attack access for binary classification."
   ]
  },
  {
   "cell_type": "code",
   "execution_count": 14,
   "metadata": {},
   "outputs": [],
   "source": [
    "# Two categories of access\n",
    "df['target'] = df.label.map(lambda x:'normal' if x=='normal' else 'attack')"
   ]
  },
  {
   "cell_type": "code",
   "execution_count": 15,
   "metadata": {},
   "outputs": [
    {
     "data": {
      "text/plain": [
       "normal    0.53386\n",
       "attack    0.46614\n",
       "Name: target, dtype: float64"
      ]
     },
     "execution_count": 15,
     "metadata": {},
     "output_type": "execute_result"
    }
   ],
   "source": [
    "df['target'].value_counts(normalize=True)"
   ]
  },
  {
   "cell_type": "code",
   "execution_count": 16,
   "metadata": {},
   "outputs": [
    {
     "data": {
      "image/png": "[encoded data removed]",
      "text/plain": [
       "<Figure size 720x360 with 1 Axes>"
      ]
     },
     "metadata": {
      "needs_background": "light"
     },
     "output_type": "display_data"
    }
   ],
   "source": [
    "df['target'].value_counts(normalize=True).plot(kind = 'bar', title='Distribution of Access(normal or Attack)');"
   ]
  },
  {
   "cell_type": "markdown",
   "metadata": {},
   "source": [
    "**53.4% of the access were normal while 46.6% were attacks.**"
   ]
  },
  {
   "cell_type": "markdown",
   "metadata": {},
   "source": [
    "## Protocol distribution"
   ]
  },
  {
   "cell_type": "code",
   "execution_count": 17,
   "metadata": {},
   "outputs": [
    {
     "data": {
      "text/plain": [
       "tcp     0.814782\n",
       "udp     0.119522\n",
       "icmp    0.065695\n",
       "Name: protocol_type, dtype: float64"
      ]
     },
     "execution_count": 17,
     "metadata": {},
     "output_type": "execute_result"
    }
   ],
   "source": [
    "df['protocol_type'].value_counts(normalize=True)"
   ]
  },
  {
   "cell_type": "code",
   "execution_count": 18,
   "metadata": {
    "scrolled": true
   },
   "outputs": [
    {
     "data": {
      "image/png": "[encoded data removed]",
      "text/plain": [
       "<Figure size 720x360 with 1 Axes>"
      ]
     },
     "metadata": {
      "needs_background": "light"
     },
     "output_type": "display_data"
    }
   ],
   "source": [
    "plt.figure(figsize=(10,5))\n",
    "ax = sns.countplot(x='protocol_type', data=df, color='blue')\n",
    "ax.set_xticklabels(ax.get_xticklabels(), rotation=90)\n",
    "without_hue(ax, df['protocol_type'])\n",
    "plt.show()"
   ]
  },
  {
   "cell_type": "markdown",
   "metadata": {},
   "source": [
    "* **tcp** is the most used protocol for connection."
   ]
  },
  {
   "cell_type": "markdown",
   "metadata": {},
   "source": [
    "## Service distribution"
   ]
  },
  {
   "cell_type": "code",
   "execution_count": 19,
   "metadata": {},
   "outputs": [
    {
     "data": {
      "text/plain": [
       "http        0.317680\n",
       "private     0.172714\n",
       "domain_u    0.072245\n",
       "smtp        0.057518\n",
       "ftp_data    0.055414\n",
       "eco_i       0.036083\n",
       "other       0.034058\n",
       "ecr_i       0.024333\n",
       "telnet      0.019173\n",
       "finger      0.014528\n",
       "Name: service, dtype: float64"
      ]
     },
     "execution_count": 19,
     "metadata": {},
     "output_type": "execute_result"
    }
   ],
   "source": [
    "df['service'].value_counts(normalize=True)[:10]"
   ]
  },
  {
   "cell_type": "markdown",
   "metadata": {},
   "source": [
    "## plot bargraph of top-10 network services used"
   ]
  },
  {
   "cell_type": "code",
   "execution_count": 20,
   "metadata": {},
   "outputs": [
    {
     "data": {
      "image/png": "[encoded data removed]",
      "text/plain": [
       "<Figure size 720x360 with 1 Axes>"
      ]
     },
     "metadata": {
      "needs_background": "light"
     },
     "output_type": "display_data"
    }
   ],
   "source": [
    "df['service'].value_counts()[:10].plot(kind=\"bar\")\n",
    "plt.title(\"Distribution of 10 top most used services in the intrusion\")\n",
    "plt.show()"
   ]
  },
  {
   "cell_type": "markdown",
   "metadata": {},
   "source": [
    "**http is the top most used network service followed by private and domain_u respectively**\n",
    "**32% were http ones, while private were 17%**"
   ]
  },
  {
   "cell_type": "markdown",
   "metadata": {},
   "source": [
    "### Flag (normal or error status of the connection )"
   ]
  },
  {
   "cell_type": "code",
   "execution_count": 21,
   "metadata": {},
   "outputs": [
    {
     "data": {
      "image/png": "[encoded data removed]",
      "text/plain": [
       "<Figure size 720x360 with 1 Axes>"
      ]
     },
     "metadata": {
      "needs_background": "light"
     },
     "output_type": "display_data"
    }
   ],
   "source": [
    "plt.figure(figsize=(10,5))\n",
    "chart = sns.countplot(x='flag', data=df, color='blue')\n",
    "chart.set_xticklabels(chart.get_xticklabels(), rotation=90)\n",
    "plt.show()"
   ]
  },
  {
   "cell_type": "markdown",
   "metadata": {},
   "source": [
    "### logged_in(1 if successfully logged in; 0 otherwise )"
   ]
  },
  {
   "cell_type": "code",
   "execution_count": 22,
   "metadata": {},
   "outputs": [
    {
     "data": {
      "image/png": "[encoded data removed]",
      "text/plain": [
       "<Figure size 720x360 with 1 Axes>"
      ]
     },
     "metadata": {
      "needs_background": "light"
     },
     "output_type": "display_data"
    }
   ],
   "source": [
    "plt.figure(figsize=(10,5))\n",
    "ax = sns.countplot(x='logged_in', data=df, color='blue')\n",
    "ax.set_xticklabels(ax.get_xticklabels(), rotation=90)\n",
    "without_hue(ax, df['logged_in'])\n",
    "plt.show()"
   ]
  },
  {
   "cell_type": "markdown",
   "metadata": {},
   "source": [
    "> 60.5% of the users were logged in successfully whle 39.5% were not"
   ]
  },
  {
   "cell_type": "markdown",
   "metadata": {},
   "source": [
    "### root_shell(1 if root shell is obtained; 0 otherwise)"
   ]
  },
  {
   "cell_type": "code",
   "execution_count": 23,
   "metadata": {},
   "outputs": [
    {
     "data": {
      "text/plain": [
       "0    0.998452\n",
       "1    0.001548\n",
       "Name: root_shell, dtype: float64"
      ]
     },
     "execution_count": 23,
     "metadata": {},
     "output_type": "execute_result"
    }
   ],
   "source": [
    "df['root_shell'].value_counts(normalize=True)"
   ]
  },
  {
   "cell_type": "markdown",
   "metadata": {},
   "source": [
    "### su_attempted(\t1 if  **su root** command attempted; 0 otherwise )"
   ]
  },
  {
   "cell_type": "code",
   "execution_count": 24,
   "metadata": {},
   "outputs": [
    {
     "data": {
      "text/plain": [
       "0    0.999166\n",
       "2    0.000516\n",
       "1    0.000318\n",
       "Name: su_attempted, dtype: float64"
      ]
     },
     "execution_count": 24,
     "metadata": {},
     "output_type": "execute_result"
    }
   ],
   "source": [
    "df['su_attempted'].value_counts(normalize=True)"
   ]
  },
  {
   "cell_type": "markdown",
   "metadata": {},
   "source": [
    "### is_host_login(1 if the login belongs to the **hot** list; 0 otherwise )"
   ]
  },
  {
   "cell_type": "code",
   "execution_count": 25,
   "metadata": {},
   "outputs": [
    {
     "data": {
      "text/plain": [
       "0    1.0\n",
       "Name: is_host_login, dtype: float64"
      ]
     },
     "execution_count": 25,
     "metadata": {},
     "output_type": "execute_result"
    }
   ],
   "source": [
    "df['is_host_login'].value_counts(normalize=True)"
   ]
  },
  {
   "cell_type": "markdown",
   "metadata": {},
   "source": [
    "### is_guest_login"
   ]
  },
  {
   "cell_type": "code",
   "execution_count": 26,
   "metadata": {},
   "outputs": [
    {
     "data": {
      "text/plain": [
       "0    0.99087\n",
       "1    0.00913\n",
       "Name: is_guest_login, dtype: float64"
      ]
     },
     "execution_count": 26,
     "metadata": {},
     "output_type": "execute_result"
    }
   ],
   "source": [
    "df['is_guest_login'].value_counts(normalize=True)"
   ]
  },
  {
   "cell_type": "markdown",
   "metadata": {},
   "source": [
    "### count(number of connections to the same host as the current connection in the past two seconds)"
   ]
  },
  {
   "cell_type": "code",
   "execution_count": 27,
   "metadata": {},
   "outputs": [
    {
     "data": {
      "image/png": "[encoded data removed]",
      "text/plain": [
       "<Figure size 720x360 with 1 Axes>"
      ]
     },
     "metadata": {
      "needs_background": "light"
     },
     "output_type": "display_data"
    }
   ],
   "source": [
    "sns.distplot(\n",
    "    df['count'], norm_hist=False, kde=False, bins=10, hist_kws={\"alpha\": 1}\n",
    ").set(xlabel='number of connections', ylabel='Count')\n",
    "plt.title(\"Distribution of number of connections to the same host as the current connection in the past two seconds\")\n",
    "plt.show()"
   ]
  },
  {
   "cell_type": "markdown",
   "metadata": {},
   "source": [
    "### dst_host_count"
   ]
  },
  {
   "cell_type": "code",
   "execution_count": 28,
   "metadata": {},
   "outputs": [
    {
     "data": {
      "image/png": "[encoded data removed]",
      "text/plain": [
       "<Figure size 720x360 with 1 Axes>"
      ]
     },
     "metadata": {
      "needs_background": "light"
     },
     "output_type": "display_data"
    }
   ],
   "source": [
    "sns.distplot(\n",
    "    df['dst_host_count'], norm_hist=False, kde=False, bins=10, hist_kws={\"alpha\": 1}\n",
    ").set(xlabel='dst_host_count', ylabel='Count')\n",
    "plt.title(\"Distribution of dst_host_count\")\n",
    "plt.show()"
   ]
  },
  {
   "cell_type": "markdown",
   "metadata": {},
   "source": [
    "## Bivariate analysis"
   ]
  },
  {
   "cell_type": "markdown",
   "metadata": {},
   "source": [
    "### protocol_type vs target"
   ]
  },
  {
   "cell_type": "code",
   "execution_count": 29,
   "metadata": {},
   "outputs": [
    {
     "data": {
      "image/png": "[encoded data removed]",
      "text/plain": [
       "<Figure size 720x360 with 1 Axes>"
      ]
     },
     "metadata": {
      "needs_background": "light"
     },
     "output_type": "display_data"
    }
   ],
   "source": [
    "chart = sns.countplot(x=\"protocol_type\", hue=\"target\", data=df);\n",
    "chart.set_xticklabels(chart.get_xticklabels(), rotation=90, horizontalalignment='right');"
   ]
  },
  {
   "cell_type": "code",
   "execution_count": null,
   "metadata": {},
   "outputs": [],
   "source": []
  },
  {
   "cell_type": "markdown",
   "metadata": {},
   "source": [
    "### Service vs Attack"
   ]
  },
  {
   "cell_type": "code",
   "execution_count": 30,
   "metadata": {},
   "outputs": [
    {
     "data": {
      "text/html": [
       "<div>\n",
       "<style scoped>\n",
       "    .dataframe tbody tr th:only-of-type {\n",
       "        vertical-align: middle;\n",
       "    }\n",
       "\n",
       "    .dataframe tbody tr th {\n",
       "        vertical-align: top;\n",
       "    }\n",
       "\n",
       "    .dataframe thead th {\n",
       "        text-align: right;\n",
       "    }\n",
       "</style>\n",
       "<table border=\"1\" class=\"dataframe\">\n",
       "  <thead>\n",
       "    <tr style=\"text-align: right;\">\n",
       "      <th>target</th>\n",
       "      <th>attack</th>\n",
       "      <th>normal</th>\n",
       "      <th>All</th>\n",
       "    </tr>\n",
       "    <tr>\n",
       "      <th>service</th>\n",
       "      <th></th>\n",
       "      <th></th>\n",
       "      <th></th>\n",
       "    </tr>\n",
       "  </thead>\n",
       "  <tbody>\n",
       "    <tr>\n",
       "      <th>IRC</th>\n",
       "      <td>0.000000</td>\n",
       "      <td>0.001588</td>\n",
       "      <td>0.001588</td>\n",
       "    </tr>\n",
       "    <tr>\n",
       "      <th>X11</th>\n",
       "      <td>0.000119</td>\n",
       "      <td>0.000754</td>\n",
       "      <td>0.000873</td>\n",
       "    </tr>\n",
       "    <tr>\n",
       "      <th>Z39_50</th>\n",
       "      <td>0.006828</td>\n",
       "      <td>0.000000</td>\n",
       "      <td>0.006828</td>\n",
       "    </tr>\n",
       "    <tr>\n",
       "      <th>auth</th>\n",
       "      <td>0.005875</td>\n",
       "      <td>0.001628</td>\n",
       "      <td>0.007502</td>\n",
       "    </tr>\n",
       "    <tr>\n",
       "      <th>bgp</th>\n",
       "      <td>0.005795</td>\n",
       "      <td>0.000000</td>\n",
       "      <td>0.005795</td>\n",
       "    </tr>\n",
       "    <tr>\n",
       "      <th>courier</th>\n",
       "      <td>0.006510</td>\n",
       "      <td>0.000000</td>\n",
       "      <td>0.006510</td>\n",
       "    </tr>\n",
       "    <tr>\n",
       "      <th>csnet_ns</th>\n",
       "      <td>0.004406</td>\n",
       "      <td>0.000000</td>\n",
       "      <td>0.004406</td>\n",
       "    </tr>\n",
       "    <tr>\n",
       "      <th>ctf</th>\n",
       "      <td>0.005041</td>\n",
       "      <td>0.000000</td>\n",
       "      <td>0.005041</td>\n",
       "    </tr>\n",
       "    <tr>\n",
       "      <th>daytime</th>\n",
       "      <td>0.004247</td>\n",
       "      <td>0.000000</td>\n",
       "      <td>0.004247</td>\n",
       "    </tr>\n",
       "    <tr>\n",
       "      <th>discard</th>\n",
       "      <td>0.004168</td>\n",
       "      <td>0.000000</td>\n",
       "      <td>0.004168</td>\n",
       "    </tr>\n",
       "    <tr>\n",
       "      <th>domain</th>\n",
       "      <td>0.003970</td>\n",
       "      <td>0.000357</td>\n",
       "      <td>0.004327</td>\n",
       "    </tr>\n",
       "    <tr>\n",
       "      <th>domain_u</th>\n",
       "      <td>0.000119</td>\n",
       "      <td>0.072126</td>\n",
       "      <td>0.072245</td>\n",
       "    </tr>\n",
       "    <tr>\n",
       "      <th>echo</th>\n",
       "      <td>0.002580</td>\n",
       "      <td>0.000000</td>\n",
       "      <td>0.002580</td>\n",
       "    </tr>\n",
       "    <tr>\n",
       "      <th>eco_i</th>\n",
       "      <td>0.032391</td>\n",
       "      <td>0.003692</td>\n",
       "      <td>0.036083</td>\n",
       "    </tr>\n",
       "    <tr>\n",
       "      <th>ecr_i</th>\n",
       "      <td>0.022825</td>\n",
       "      <td>0.001508</td>\n",
       "      <td>0.024333</td>\n",
       "    </tr>\n",
       "    <tr>\n",
       "      <th>efs</th>\n",
       "      <td>0.004366</td>\n",
       "      <td>0.000000</td>\n",
       "      <td>0.004366</td>\n",
       "    </tr>\n",
       "    <tr>\n",
       "      <th>exec</th>\n",
       "      <td>0.003612</td>\n",
       "      <td>0.000000</td>\n",
       "      <td>0.003612</td>\n",
       "    </tr>\n",
       "    <tr>\n",
       "      <th>finger</th>\n",
       "      <td>0.009884</td>\n",
       "      <td>0.004644</td>\n",
       "      <td>0.014528</td>\n",
       "    </tr>\n",
       "    <tr>\n",
       "      <th>ftp</th>\n",
       "      <td>0.006708</td>\n",
       "      <td>0.006986</td>\n",
       "      <td>0.013695</td>\n",
       "    </tr>\n",
       "    <tr>\n",
       "      <th>ftp_data</th>\n",
       "      <td>0.015680</td>\n",
       "      <td>0.039735</td>\n",
       "      <td>0.055414</td>\n",
       "    </tr>\n",
       "    <tr>\n",
       "      <th>gopher</th>\n",
       "      <td>0.004327</td>\n",
       "      <td>0.000000</td>\n",
       "      <td>0.004327</td>\n",
       "    </tr>\n",
       "    <tr>\n",
       "      <th>hostnames</th>\n",
       "      <td>0.003811</td>\n",
       "      <td>0.000000</td>\n",
       "      <td>0.003811</td>\n",
       "    </tr>\n",
       "    <tr>\n",
       "      <th>http</th>\n",
       "      <td>0.017426</td>\n",
       "      <td>0.300254</td>\n",
       "      <td>0.317680</td>\n",
       "    </tr>\n",
       "    <tr>\n",
       "      <th>http_443</th>\n",
       "      <td>0.004486</td>\n",
       "      <td>0.000000</td>\n",
       "      <td>0.004486</td>\n",
       "    </tr>\n",
       "    <tr>\n",
       "      <th>http_8001</th>\n",
       "      <td>0.000040</td>\n",
       "      <td>0.000000</td>\n",
       "      <td>0.000040</td>\n",
       "    </tr>\n",
       "    <tr>\n",
       "      <th>imap4</th>\n",
       "      <td>0.005478</td>\n",
       "      <td>0.000000</td>\n",
       "      <td>0.005478</td>\n",
       "    </tr>\n",
       "    <tr>\n",
       "      <th>iso_tsap</th>\n",
       "      <td>0.005200</td>\n",
       "      <td>0.000000</td>\n",
       "      <td>0.005200</td>\n",
       "    </tr>\n",
       "    <tr>\n",
       "      <th>klogin</th>\n",
       "      <td>0.003652</td>\n",
       "      <td>0.000000</td>\n",
       "      <td>0.003652</td>\n",
       "    </tr>\n",
       "    <tr>\n",
       "      <th>kshell</th>\n",
       "      <td>0.002660</td>\n",
       "      <td>0.000000</td>\n",
       "      <td>0.002660</td>\n",
       "    </tr>\n",
       "    <tr>\n",
       "      <th>ldap</th>\n",
       "      <td>0.003573</td>\n",
       "      <td>0.000000</td>\n",
       "      <td>0.003573</td>\n",
       "    </tr>\n",
       "    <tr>\n",
       "      <th>link</th>\n",
       "      <td>0.003374</td>\n",
       "      <td>0.000000</td>\n",
       "      <td>0.003374</td>\n",
       "    </tr>\n",
       "    <tr>\n",
       "      <th>login</th>\n",
       "      <td>0.003136</td>\n",
       "      <td>0.000000</td>\n",
       "      <td>0.003136</td>\n",
       "    </tr>\n",
       "    <tr>\n",
       "      <th>mtp</th>\n",
       "      <td>0.003573</td>\n",
       "      <td>0.000000</td>\n",
       "      <td>0.003573</td>\n",
       "    </tr>\n",
       "    <tr>\n",
       "      <th>name</th>\n",
       "      <td>0.003652</td>\n",
       "      <td>0.000000</td>\n",
       "      <td>0.003652</td>\n",
       "    </tr>\n",
       "    <tr>\n",
       "      <th>netbios_dgm</th>\n",
       "      <td>0.003374</td>\n",
       "      <td>0.000000</td>\n",
       "      <td>0.003374</td>\n",
       "    </tr>\n",
       "    <tr>\n",
       "      <th>netbios_ns</th>\n",
       "      <td>0.003017</td>\n",
       "      <td>0.000000</td>\n",
       "      <td>0.003017</td>\n",
       "    </tr>\n",
       "    <tr>\n",
       "      <th>netbios_ssn</th>\n",
       "      <td>0.002660</td>\n",
       "      <td>0.000000</td>\n",
       "      <td>0.002660</td>\n",
       "    </tr>\n",
       "    <tr>\n",
       "      <th>netstat</th>\n",
       "      <td>0.003096</td>\n",
       "      <td>0.000000</td>\n",
       "      <td>0.003096</td>\n",
       "    </tr>\n",
       "    <tr>\n",
       "      <th>nnsp</th>\n",
       "      <td>0.004883</td>\n",
       "      <td>0.000000</td>\n",
       "      <td>0.004883</td>\n",
       "    </tr>\n",
       "    <tr>\n",
       "      <th>nntp</th>\n",
       "      <td>0.002421</td>\n",
       "      <td>0.000000</td>\n",
       "      <td>0.002421</td>\n",
       "    </tr>\n",
       "    <tr>\n",
       "      <th>ntp_u</th>\n",
       "      <td>0.000000</td>\n",
       "      <td>0.001270</td>\n",
       "      <td>0.001270</td>\n",
       "    </tr>\n",
       "    <tr>\n",
       "      <th>other</th>\n",
       "      <td>0.013457</td>\n",
       "      <td>0.020602</td>\n",
       "      <td>0.034058</td>\n",
       "    </tr>\n",
       "    <tr>\n",
       "      <th>pm_dump</th>\n",
       "      <td>0.000119</td>\n",
       "      <td>0.000000</td>\n",
       "      <td>0.000119</td>\n",
       "    </tr>\n",
       "    <tr>\n",
       "      <th>pop_2</th>\n",
       "      <td>0.000675</td>\n",
       "      <td>0.000000</td>\n",
       "      <td>0.000675</td>\n",
       "    </tr>\n",
       "    <tr>\n",
       "      <th>pop_3</th>\n",
       "      <td>0.000754</td>\n",
       "      <td>0.001350</td>\n",
       "      <td>0.002104</td>\n",
       "    </tr>\n",
       "    <tr>\n",
       "      <th>printer</th>\n",
       "      <td>0.000476</td>\n",
       "      <td>0.000000</td>\n",
       "      <td>0.000476</td>\n",
       "    </tr>\n",
       "    <tr>\n",
       "      <th>private</th>\n",
       "      <td>0.164814</td>\n",
       "      <td>0.007899</td>\n",
       "      <td>0.172714</td>\n",
       "    </tr>\n",
       "    <tr>\n",
       "      <th>red_i</th>\n",
       "      <td>0.000000</td>\n",
       "      <td>0.000119</td>\n",
       "      <td>0.000119</td>\n",
       "    </tr>\n",
       "    <tr>\n",
       "      <th>remote_job</th>\n",
       "      <td>0.000675</td>\n",
       "      <td>0.000000</td>\n",
       "      <td>0.000675</td>\n",
       "    </tr>\n",
       "    <tr>\n",
       "      <th>rje</th>\n",
       "      <td>0.000794</td>\n",
       "      <td>0.000000</td>\n",
       "      <td>0.000794</td>\n",
       "    </tr>\n",
       "    <tr>\n",
       "      <th>shell</th>\n",
       "      <td>0.000397</td>\n",
       "      <td>0.000040</td>\n",
       "      <td>0.000437</td>\n",
       "    </tr>\n",
       "    <tr>\n",
       "      <th>smtp</th>\n",
       "      <td>0.002342</td>\n",
       "      <td>0.055176</td>\n",
       "      <td>0.057518</td>\n",
       "    </tr>\n",
       "    <tr>\n",
       "      <th>sql_net</th>\n",
       "      <td>0.001826</td>\n",
       "      <td>0.000000</td>\n",
       "      <td>0.001826</td>\n",
       "    </tr>\n",
       "    <tr>\n",
       "      <th>ssh</th>\n",
       "      <td>0.002302</td>\n",
       "      <td>0.000000</td>\n",
       "      <td>0.002302</td>\n",
       "    </tr>\n",
       "    <tr>\n",
       "      <th>sunrpc</th>\n",
       "      <td>0.002660</td>\n",
       "      <td>0.000000</td>\n",
       "      <td>0.002660</td>\n",
       "    </tr>\n",
       "    <tr>\n",
       "      <th>supdup</th>\n",
       "      <td>0.004525</td>\n",
       "      <td>0.000000</td>\n",
       "      <td>0.004525</td>\n",
       "    </tr>\n",
       "    <tr>\n",
       "      <th>systat</th>\n",
       "      <td>0.003493</td>\n",
       "      <td>0.000000</td>\n",
       "      <td>0.003493</td>\n",
       "    </tr>\n",
       "    <tr>\n",
       "      <th>telnet</th>\n",
       "      <td>0.010876</td>\n",
       "      <td>0.008296</td>\n",
       "      <td>0.019173</td>\n",
       "    </tr>\n",
       "    <tr>\n",
       "      <th>tim_i</th>\n",
       "      <td>0.000079</td>\n",
       "      <td>0.000000</td>\n",
       "      <td>0.000079</td>\n",
       "    </tr>\n",
       "    <tr>\n",
       "      <th>time</th>\n",
       "      <td>0.005359</td>\n",
       "      <td>0.000794</td>\n",
       "      <td>0.006153</td>\n",
       "    </tr>\n",
       "    <tr>\n",
       "      <th>urh_i</th>\n",
       "      <td>0.000000</td>\n",
       "      <td>0.000159</td>\n",
       "      <td>0.000159</td>\n",
       "    </tr>\n",
       "    <tr>\n",
       "      <th>urp_i</th>\n",
       "      <td>0.000040</td>\n",
       "      <td>0.004883</td>\n",
       "      <td>0.004922</td>\n",
       "    </tr>\n",
       "    <tr>\n",
       "      <th>uucp</th>\n",
       "      <td>0.006232</td>\n",
       "      <td>0.000000</td>\n",
       "      <td>0.006232</td>\n",
       "    </tr>\n",
       "    <tr>\n",
       "      <th>uucp_path</th>\n",
       "      <td>0.005279</td>\n",
       "      <td>0.000000</td>\n",
       "      <td>0.005279</td>\n",
       "    </tr>\n",
       "    <tr>\n",
       "      <th>vmnet</th>\n",
       "      <td>0.004247</td>\n",
       "      <td>0.000000</td>\n",
       "      <td>0.004247</td>\n",
       "    </tr>\n",
       "    <tr>\n",
       "      <th>whois</th>\n",
       "      <td>0.005756</td>\n",
       "      <td>0.000000</td>\n",
       "      <td>0.005756</td>\n",
       "    </tr>\n",
       "    <tr>\n",
       "      <th>All</th>\n",
       "      <td>0.466140</td>\n",
       "      <td>0.533860</td>\n",
       "      <td>1.000000</td>\n",
       "    </tr>\n",
       "  </tbody>\n",
       "</table>\n",
       "</div>"
      ],
      "text/plain": [
       "target         attack    normal       All\n",
       "service                                  \n",
       "IRC          0.000000  0.001588  0.001588\n",
       "X11          0.000119  0.000754  0.000873\n",
       "Z39_50       0.006828  0.000000  0.006828\n",
       "auth         0.005875  0.001628  0.007502\n",
       "bgp          0.005795  0.000000  0.005795\n",
       "courier      0.006510  0.000000  0.006510\n",
       "csnet_ns     0.004406  0.000000  0.004406\n",
       "ctf          0.005041  0.000000  0.005041\n",
       "daytime      0.004247  0.000000  0.004247\n",
       "discard      0.004168  0.000000  0.004168\n",
       "domain       0.003970  0.000357  0.004327\n",
       "domain_u     0.000119  0.072126  0.072245\n",
       "echo         0.002580  0.000000  0.002580\n",
       "eco_i        0.032391  0.003692  0.036083\n",
       "ecr_i        0.022825  0.001508  0.024333\n",
       "efs          0.004366  0.000000  0.004366\n",
       "exec         0.003612  0.000000  0.003612\n",
       "finger       0.009884  0.004644  0.014528\n",
       "ftp          0.006708  0.006986  0.013695\n",
       "ftp_data     0.015680  0.039735  0.055414\n",
       "gopher       0.004327  0.000000  0.004327\n",
       "hostnames    0.003811  0.000000  0.003811\n",
       "http         0.017426  0.300254  0.317680\n",
       "http_443     0.004486  0.000000  0.004486\n",
       "http_8001    0.000040  0.000000  0.000040\n",
       "imap4        0.005478  0.000000  0.005478\n",
       "iso_tsap     0.005200  0.000000  0.005200\n",
       "klogin       0.003652  0.000000  0.003652\n",
       "kshell       0.002660  0.000000  0.002660\n",
       "ldap         0.003573  0.000000  0.003573\n",
       "link         0.003374  0.000000  0.003374\n",
       "login        0.003136  0.000000  0.003136\n",
       "mtp          0.003573  0.000000  0.003573\n",
       "name         0.003652  0.000000  0.003652\n",
       "netbios_dgm  0.003374  0.000000  0.003374\n",
       "netbios_ns   0.003017  0.000000  0.003017\n",
       "netbios_ssn  0.002660  0.000000  0.002660\n",
       "netstat      0.003096  0.000000  0.003096\n",
       "nnsp         0.004883  0.000000  0.004883\n",
       "nntp         0.002421  0.000000  0.002421\n",
       "ntp_u        0.000000  0.001270  0.001270\n",
       "other        0.013457  0.020602  0.034058\n",
       "pm_dump      0.000119  0.000000  0.000119\n",
       "pop_2        0.000675  0.000000  0.000675\n",
       "pop_3        0.000754  0.001350  0.002104\n",
       "printer      0.000476  0.000000  0.000476\n",
       "private      0.164814  0.007899  0.172714\n",
       "red_i        0.000000  0.000119  0.000119\n",
       "remote_job   0.000675  0.000000  0.000675\n",
       "rje          0.000794  0.000000  0.000794\n",
       "shell        0.000397  0.000040  0.000437\n",
       "smtp         0.002342  0.055176  0.057518\n",
       "sql_net      0.001826  0.000000  0.001826\n",
       "ssh          0.002302  0.000000  0.002302\n",
       "sunrpc       0.002660  0.000000  0.002660\n",
       "supdup       0.004525  0.000000  0.004525\n",
       "systat       0.003493  0.000000  0.003493\n",
       "telnet       0.010876  0.008296  0.019173\n",
       "tim_i        0.000079  0.000000  0.000079\n",
       "time         0.005359  0.000794  0.006153\n",
       "urh_i        0.000000  0.000159  0.000159\n",
       "urp_i        0.000040  0.004883  0.004922\n",
       "uucp         0.006232  0.000000  0.006232\n",
       "uucp_path    0.005279  0.000000  0.005279\n",
       "vmnet        0.004247  0.000000  0.004247\n",
       "whois        0.005756  0.000000  0.005756\n",
       "All          0.466140  0.533860  1.000000"
      ]
     },
     "execution_count": 30,
     "metadata": {},
     "output_type": "execute_result"
    }
   ],
   "source": [
    "pd.set_option('display.max_rows', None)\n",
    "pd.crosstab(df[\"service\"], df[\"target\"], \n",
    "            normalize=True, margins=True)"
   ]
  },
  {
   "cell_type": "code",
   "execution_count": 31,
   "metadata": {},
   "outputs": [
    {
     "data": {
      "text/html": [
       "<div>\n",
       "<style scoped>\n",
       "    .dataframe tbody tr th:only-of-type {\n",
       "        vertical-align: middle;\n",
       "    }\n",
       "\n",
       "    .dataframe tbody tr th {\n",
       "        vertical-align: top;\n",
       "    }\n",
       "\n",
       "    .dataframe thead th {\n",
       "        text-align: right;\n",
       "    }\n",
       "</style>\n",
       "<table border=\"1\" class=\"dataframe\">\n",
       "  <thead>\n",
       "    <tr style=\"text-align: right;\">\n",
       "      <th></th>\n",
       "      <th>duration</th>\n",
       "      <th>protocol_type</th>\n",
       "      <th>service</th>\n",
       "      <th>flag</th>\n",
       "      <th>src_bytes</th>\n",
       "      <th>dst_bytes</th>\n",
       "      <th>land</th>\n",
       "      <th>wrong_fragment</th>\n",
       "      <th>urgent</th>\n",
       "      <th>hot</th>\n",
       "      <th>...</th>\n",
       "      <th>dst_host_diff_srv_rate</th>\n",
       "      <th>dst_host_same_src_port_rate</th>\n",
       "      <th>dst_host_srv_diff_host_rate</th>\n",
       "      <th>dst_host_serror_rate</th>\n",
       "      <th>dst_host_srv_serror_rate</th>\n",
       "      <th>dst_host_rerror_rate</th>\n",
       "      <th>dst_host_srv_rerror_rate</th>\n",
       "      <th>label</th>\n",
       "      <th>difficulty</th>\n",
       "      <th>target</th>\n",
       "    </tr>\n",
       "  </thead>\n",
       "  <tbody>\n",
       "    <tr>\n",
       "      <th>0</th>\n",
       "      <td>0</td>\n",
       "      <td>tcp</td>\n",
       "      <td>ftp_data</td>\n",
       "      <td>SF</td>\n",
       "      <td>491</td>\n",
       "      <td>0</td>\n",
       "      <td>0</td>\n",
       "      <td>0</td>\n",
       "      <td>0</td>\n",
       "      <td>0</td>\n",
       "      <td>...</td>\n",
       "      <td>0.03</td>\n",
       "      <td>0.17</td>\n",
       "      <td>0.00</td>\n",
       "      <td>0.00</td>\n",
       "      <td>0.00</td>\n",
       "      <td>0.05</td>\n",
       "      <td>0.00</td>\n",
       "      <td>normal</td>\n",
       "      <td>20</td>\n",
       "      <td>normal</td>\n",
       "    </tr>\n",
       "    <tr>\n",
       "      <th>1</th>\n",
       "      <td>0</td>\n",
       "      <td>udp</td>\n",
       "      <td>other</td>\n",
       "      <td>SF</td>\n",
       "      <td>146</td>\n",
       "      <td>0</td>\n",
       "      <td>0</td>\n",
       "      <td>0</td>\n",
       "      <td>0</td>\n",
       "      <td>0</td>\n",
       "      <td>...</td>\n",
       "      <td>0.60</td>\n",
       "      <td>0.88</td>\n",
       "      <td>0.00</td>\n",
       "      <td>0.00</td>\n",
       "      <td>0.00</td>\n",
       "      <td>0.00</td>\n",
       "      <td>0.00</td>\n",
       "      <td>normal</td>\n",
       "      <td>15</td>\n",
       "      <td>normal</td>\n",
       "    </tr>\n",
       "    <tr>\n",
       "      <th>2</th>\n",
       "      <td>0</td>\n",
       "      <td>tcp</td>\n",
       "      <td>private</td>\n",
       "      <td>S0</td>\n",
       "      <td>0</td>\n",
       "      <td>0</td>\n",
       "      <td>0</td>\n",
       "      <td>0</td>\n",
       "      <td>0</td>\n",
       "      <td>0</td>\n",
       "      <td>...</td>\n",
       "      <td>0.05</td>\n",
       "      <td>0.00</td>\n",
       "      <td>0.00</td>\n",
       "      <td>1.00</td>\n",
       "      <td>1.00</td>\n",
       "      <td>0.00</td>\n",
       "      <td>0.00</td>\n",
       "      <td>Dos</td>\n",
       "      <td>19</td>\n",
       "      <td>attack</td>\n",
       "    </tr>\n",
       "    <tr>\n",
       "      <th>3</th>\n",
       "      <td>0</td>\n",
       "      <td>tcp</td>\n",
       "      <td>http</td>\n",
       "      <td>SF</td>\n",
       "      <td>232</td>\n",
       "      <td>8153</td>\n",
       "      <td>0</td>\n",
       "      <td>0</td>\n",
       "      <td>0</td>\n",
       "      <td>0</td>\n",
       "      <td>...</td>\n",
       "      <td>0.00</td>\n",
       "      <td>0.03</td>\n",
       "      <td>0.04</td>\n",
       "      <td>0.03</td>\n",
       "      <td>0.01</td>\n",
       "      <td>0.00</td>\n",
       "      <td>0.01</td>\n",
       "      <td>normal</td>\n",
       "      <td>21</td>\n",
       "      <td>normal</td>\n",
       "    </tr>\n",
       "    <tr>\n",
       "      <th>4</th>\n",
       "      <td>0</td>\n",
       "      <td>tcp</td>\n",
       "      <td>http</td>\n",
       "      <td>SF</td>\n",
       "      <td>199</td>\n",
       "      <td>420</td>\n",
       "      <td>0</td>\n",
       "      <td>0</td>\n",
       "      <td>0</td>\n",
       "      <td>0</td>\n",
       "      <td>...</td>\n",
       "      <td>0.00</td>\n",
       "      <td>0.00</td>\n",
       "      <td>0.00</td>\n",
       "      <td>0.00</td>\n",
       "      <td>0.00</td>\n",
       "      <td>0.00</td>\n",
       "      <td>0.00</td>\n",
       "      <td>normal</td>\n",
       "      <td>21</td>\n",
       "      <td>normal</td>\n",
       "    </tr>\n",
       "  </tbody>\n",
       "</table>\n",
       "<p>5 rows × 44 columns</p>\n",
       "</div>"
      ],
      "text/plain": [
       "   duration protocol_type   service flag  src_bytes  dst_bytes  land  \\\n",
       "0         0           tcp  ftp_data   SF        491          0     0   \n",
       "1         0           udp     other   SF        146          0     0   \n",
       "2         0           tcp   private   S0          0          0     0   \n",
       "3         0           tcp      http   SF        232       8153     0   \n",
       "4         0           tcp      http   SF        199        420     0   \n",
       "\n",
       "   wrong_fragment  urgent  hot  ...  dst_host_diff_srv_rate  \\\n",
       "0               0       0    0  ...                    0.03   \n",
       "1               0       0    0  ...                    0.60   \n",
       "2               0       0    0  ...                    0.05   \n",
       "3               0       0    0  ...                    0.00   \n",
       "4               0       0    0  ...                    0.00   \n",
       "\n",
       "   dst_host_same_src_port_rate  dst_host_srv_diff_host_rate  \\\n",
       "0                         0.17                         0.00   \n",
       "1                         0.88                         0.00   \n",
       "2                         0.00                         0.00   \n",
       "3                         0.03                         0.04   \n",
       "4                         0.00                         0.00   \n",
       "\n",
       "   dst_host_serror_rate  dst_host_srv_serror_rate  dst_host_rerror_rate  \\\n",
       "0                  0.00                      0.00                  0.05   \n",
       "1                  0.00                      0.00                  0.00   \n",
       "2                  1.00                      1.00                  0.00   \n",
       "3                  0.03                      0.01                  0.00   \n",
       "4                  0.00                      0.00                  0.00   \n",
       "\n",
       "   dst_host_srv_rerror_rate   label  difficulty  target  \n",
       "0                      0.00  normal          20  normal  \n",
       "1                      0.00  normal          15  normal  \n",
       "2                      0.00     Dos          19  attack  \n",
       "3                      0.01  normal          21  normal  \n",
       "4                      0.00  normal          21  normal  \n",
       "\n",
       "[5 rows x 44 columns]"
      ]
     },
     "execution_count": 31,
     "metadata": {},
     "output_type": "execute_result"
    }
   ],
   "source": [
    "top_10_service = df['service'].value_counts()[:10].index.tolist()\n",
    "\n",
    "top_10_service_df = df[df['service'].isin(top_10_service)]\n",
    "top_10_service_df.head()"
   ]
  },
  {
   "cell_type": "code",
   "execution_count": 32,
   "metadata": {},
   "outputs": [
    {
     "data": {
      "text/plain": [
       "['http',\n",
       " 'private',\n",
       " 'domain_u',\n",
       " 'smtp',\n",
       " 'ftp_data',\n",
       " 'eco_i',\n",
       " 'other',\n",
       " 'ecr_i',\n",
       " 'telnet',\n",
       " 'finger']"
      ]
     },
     "execution_count": 32,
     "metadata": {},
     "output_type": "execute_result"
    }
   ],
   "source": [
    "top_10_service"
   ]
  },
  {
   "cell_type": "code",
   "execution_count": 33,
   "metadata": {},
   "outputs": [
    {
     "data": {
      "image/png": "[encoded data removed]",
      "text/plain": [
       "<Figure size 720x360 with 1 Axes>"
      ]
     },
     "metadata": {
      "needs_background": "light"
     },
     "output_type": "display_data"
    }
   ],
   "source": [
    "chart = sns.countplot(x=\"service\", hue=\"target\", data=top_10_service_df);\n",
    "chart.set_xticklabels(chart.get_xticklabels(), rotation=90, horizontalalignment='right')\n",
    "plt.title(\"Visualization of 10 top most used services against target variable\")\n",
    "plt.show()"
   ]
  },
  {
   "cell_type": "markdown",
   "metadata": {},
   "source": [
    "**private is the most service that cause attack, also eco_i and ecr_i are the services used for attacks.**"
   ]
  },
  {
   "cell_type": "code",
   "execution_count": null,
   "metadata": {},
   "outputs": [],
   "source": []
  },
  {
   "cell_type": "markdown",
   "metadata": {},
   "source": [
    "## Data preparation"
   ]
  },
  {
   "cell_type": "markdown",
   "metadata": {},
   "source": [
    "### convert categorical to dummies"
   ]
  },
  {
   "cell_type": "code",
   "execution_count": 34,
   "metadata": {},
   "outputs": [
    {
     "data": {
      "text/html": [
       "<div>\n",
       "<style scoped>\n",
       "    .dataframe tbody tr th:only-of-type {\n",
       "        vertical-align: middle;\n",
       "    }\n",
       "\n",
       "    .dataframe tbody tr th {\n",
       "        vertical-align: top;\n",
       "    }\n",
       "\n",
       "    .dataframe thead th {\n",
       "        text-align: right;\n",
       "    }\n",
       "</style>\n",
       "<table border=\"1\" class=\"dataframe\">\n",
       "  <thead>\n",
       "    <tr style=\"text-align: right;\">\n",
       "      <th></th>\n",
       "      <th>duration</th>\n",
       "      <th>src_bytes</th>\n",
       "      <th>dst_bytes</th>\n",
       "      <th>land</th>\n",
       "      <th>wrong_fragment</th>\n",
       "      <th>urgent</th>\n",
       "      <th>hot</th>\n",
       "      <th>num_failed_logins</th>\n",
       "      <th>logged_in</th>\n",
       "      <th>num_compromised</th>\n",
       "      <th>...</th>\n",
       "      <th>flag_REJ</th>\n",
       "      <th>flag_RSTO</th>\n",
       "      <th>flag_RSTOS0</th>\n",
       "      <th>flag_RSTR</th>\n",
       "      <th>flag_S0</th>\n",
       "      <th>flag_S1</th>\n",
       "      <th>flag_S2</th>\n",
       "      <th>flag_S3</th>\n",
       "      <th>flag_SF</th>\n",
       "      <th>flag_SH</th>\n",
       "    </tr>\n",
       "  </thead>\n",
       "  <tbody>\n",
       "    <tr>\n",
       "      <th>0</th>\n",
       "      <td>0</td>\n",
       "      <td>491</td>\n",
       "      <td>0</td>\n",
       "      <td>0</td>\n",
       "      <td>0</td>\n",
       "      <td>0</td>\n",
       "      <td>0</td>\n",
       "      <td>0</td>\n",
       "      <td>0</td>\n",
       "      <td>0</td>\n",
       "      <td>...</td>\n",
       "      <td>0</td>\n",
       "      <td>0</td>\n",
       "      <td>0</td>\n",
       "      <td>0</td>\n",
       "      <td>0</td>\n",
       "      <td>0</td>\n",
       "      <td>0</td>\n",
       "      <td>0</td>\n",
       "      <td>1</td>\n",
       "      <td>0</td>\n",
       "    </tr>\n",
       "    <tr>\n",
       "      <th>1</th>\n",
       "      <td>0</td>\n",
       "      <td>146</td>\n",
       "      <td>0</td>\n",
       "      <td>0</td>\n",
       "      <td>0</td>\n",
       "      <td>0</td>\n",
       "      <td>0</td>\n",
       "      <td>0</td>\n",
       "      <td>0</td>\n",
       "      <td>0</td>\n",
       "      <td>...</td>\n",
       "      <td>0</td>\n",
       "      <td>0</td>\n",
       "      <td>0</td>\n",
       "      <td>0</td>\n",
       "      <td>0</td>\n",
       "      <td>0</td>\n",
       "      <td>0</td>\n",
       "      <td>0</td>\n",
       "      <td>1</td>\n",
       "      <td>0</td>\n",
       "    </tr>\n",
       "    <tr>\n",
       "      <th>2</th>\n",
       "      <td>0</td>\n",
       "      <td>0</td>\n",
       "      <td>0</td>\n",
       "      <td>0</td>\n",
       "      <td>0</td>\n",
       "      <td>0</td>\n",
       "      <td>0</td>\n",
       "      <td>0</td>\n",
       "      <td>0</td>\n",
       "      <td>0</td>\n",
       "      <td>...</td>\n",
       "      <td>0</td>\n",
       "      <td>0</td>\n",
       "      <td>0</td>\n",
       "      <td>0</td>\n",
       "      <td>1</td>\n",
       "      <td>0</td>\n",
       "      <td>0</td>\n",
       "      <td>0</td>\n",
       "      <td>0</td>\n",
       "      <td>0</td>\n",
       "    </tr>\n",
       "    <tr>\n",
       "      <th>3</th>\n",
       "      <td>0</td>\n",
       "      <td>232</td>\n",
       "      <td>8153</td>\n",
       "      <td>0</td>\n",
       "      <td>0</td>\n",
       "      <td>0</td>\n",
       "      <td>0</td>\n",
       "      <td>0</td>\n",
       "      <td>1</td>\n",
       "      <td>0</td>\n",
       "      <td>...</td>\n",
       "      <td>0</td>\n",
       "      <td>0</td>\n",
       "      <td>0</td>\n",
       "      <td>0</td>\n",
       "      <td>0</td>\n",
       "      <td>0</td>\n",
       "      <td>0</td>\n",
       "      <td>0</td>\n",
       "      <td>1</td>\n",
       "      <td>0</td>\n",
       "    </tr>\n",
       "    <tr>\n",
       "      <th>4</th>\n",
       "      <td>0</td>\n",
       "      <td>199</td>\n",
       "      <td>420</td>\n",
       "      <td>0</td>\n",
       "      <td>0</td>\n",
       "      <td>0</td>\n",
       "      <td>0</td>\n",
       "      <td>0</td>\n",
       "      <td>1</td>\n",
       "      <td>0</td>\n",
       "      <td>...</td>\n",
       "      <td>0</td>\n",
       "      <td>0</td>\n",
       "      <td>0</td>\n",
       "      <td>0</td>\n",
       "      <td>0</td>\n",
       "      <td>0</td>\n",
       "      <td>0</td>\n",
       "      <td>0</td>\n",
       "      <td>1</td>\n",
       "      <td>0</td>\n",
       "    </tr>\n",
       "  </tbody>\n",
       "</table>\n",
       "<p>5 rows × 118 columns</p>\n",
       "</div>"
      ],
      "text/plain": [
       "   duration  src_bytes  dst_bytes  land  wrong_fragment  urgent  hot  \\\n",
       "0         0        491          0     0               0       0    0   \n",
       "1         0        146          0     0               0       0    0   \n",
       "2         0          0          0     0               0       0    0   \n",
       "3         0        232       8153     0               0       0    0   \n",
       "4         0        199        420     0               0       0    0   \n",
       "\n",
       "   num_failed_logins  logged_in  num_compromised  ...  flag_REJ  flag_RSTO  \\\n",
       "0                  0          0                0  ...         0          0   \n",
       "1                  0          0                0  ...         0          0   \n",
       "2                  0          0                0  ...         0          0   \n",
       "3                  0          1                0  ...         0          0   \n",
       "4                  0          1                0  ...         0          0   \n",
       "\n",
       "   flag_RSTOS0  flag_RSTR  flag_S0  flag_S1  flag_S2  flag_S3  flag_SF  \\\n",
       "0            0          0        0        0        0        0        1   \n",
       "1            0          0        0        0        0        0        1   \n",
       "2            0          0        1        0        0        0        0   \n",
       "3            0          0        0        0        0        0        1   \n",
       "4            0          0        0        0        0        0        1   \n",
       "\n",
       "   flag_SH  \n",
       "0        0  \n",
       "1        0  \n",
       "2        0  \n",
       "3        0  \n",
       "4        0  \n",
       "\n",
       "[5 rows x 118 columns]"
      ]
     },
     "execution_count": 34,
     "metadata": {},
     "output_type": "execute_result"
    }
   ],
   "source": [
    "## pd.get_dummies\n",
    "df_clean = pd.get_dummies(df, columns=['protocol_type', 'service', 'flag'], drop_first=True)\n",
    "df_clean.head()"
   ]
  },
  {
   "cell_type": "code",
   "execution_count": 35,
   "metadata": {},
   "outputs": [],
   "source": [
    "# Two categories of access\n",
    "df_clean['target'] = df_clean.label.map(lambda x:'normal' if x=='normal' else 'attack')"
   ]
  },
  {
   "cell_type": "code",
   "execution_count": 36,
   "metadata": {},
   "outputs": [],
   "source": [
    "# drop unuseful column \n",
    "df_clean.drop('difficulty', axis=1, inplace=True)"
   ]
  },
  {
   "cell_type": "markdown",
   "metadata": {},
   "source": [
    "## Encode categorical column"
   ]
  },
  {
   "cell_type": "code",
   "execution_count": 37,
   "metadata": {},
   "outputs": [],
   "source": [
    "from sklearn.preprocessing import LabelEncoder"
   ]
  },
  {
   "cell_type": "code",
   "execution_count": 38,
   "metadata": {},
   "outputs": [
    {
     "data": {
      "text/html": [
       "<div>\n",
       "<style scoped>\n",
       "    .dataframe tbody tr th:only-of-type {\n",
       "        vertical-align: middle;\n",
       "    }\n",
       "\n",
       "    .dataframe tbody tr th {\n",
       "        vertical-align: top;\n",
       "    }\n",
       "\n",
       "    .dataframe thead th {\n",
       "        text-align: right;\n",
       "    }\n",
       "</style>\n",
       "<table border=\"1\" class=\"dataframe\">\n",
       "  <thead>\n",
       "    <tr style=\"text-align: right;\">\n",
       "      <th></th>\n",
       "      <th>target</th>\n",
       "      <th>target_encode</th>\n",
       "    </tr>\n",
       "  </thead>\n",
       "  <tbody>\n",
       "    <tr>\n",
       "      <th>0</th>\n",
       "      <td>normal</td>\n",
       "      <td>1</td>\n",
       "    </tr>\n",
       "    <tr>\n",
       "      <th>1</th>\n",
       "      <td>normal</td>\n",
       "      <td>1</td>\n",
       "    </tr>\n",
       "    <tr>\n",
       "      <th>2</th>\n",
       "      <td>attack</td>\n",
       "      <td>0</td>\n",
       "    </tr>\n",
       "    <tr>\n",
       "      <th>3</th>\n",
       "      <td>normal</td>\n",
       "      <td>1</td>\n",
       "    </tr>\n",
       "    <tr>\n",
       "      <th>4</th>\n",
       "      <td>normal</td>\n",
       "      <td>1</td>\n",
       "    </tr>\n",
       "  </tbody>\n",
       "</table>\n",
       "</div>"
      ],
      "text/plain": [
       "   target  target_encode\n",
       "0  normal              1\n",
       "1  normal              1\n",
       "2  attack              0\n",
       "3  normal              1\n",
       "4  normal              1"
      ]
     },
     "execution_count": 38,
     "metadata": {},
     "output_type": "execute_result"
    }
   ],
   "source": [
    "df_clean['target_encode'] = LabelEncoder().fit_transform(df_clean['target'])\n",
    "\n",
    "df_clean[['target', 'target_encode']].head()"
   ]
  },
  {
   "cell_type": "markdown",
   "metadata": {},
   "source": [
    "**0 is the attack, while 1 is the normal**"
   ]
  },
  {
   "cell_type": "markdown",
   "metadata": {},
   "source": [
    "## Check correlation"
   ]
  },
  {
   "cell_type": "markdown",
   "metadata": {},
   "source": [
    "### return top 10 positive and top 10 negative correlated columns"
   ]
  },
  {
   "cell_type": "code",
   "execution_count": 39,
   "metadata": {},
   "outputs": [
    {
     "data": {
      "text/plain": [
       "['dst_host_count',\n",
       " 'service_private',\n",
       " 'count',\n",
       " 'dst_host_diff_srv_rate',\n",
       " 'dst_host_srv_serror_rate',\n",
       " 'srv_serror_rate',\n",
       " 'dst_host_serror_rate',\n",
       " 'flag_S0',\n",
       " 'serror_rate',\n",
       " 'diff_srv_rate']"
      ]
     },
     "execution_count": 39,
     "metadata": {},
     "output_type": "execute_result"
    }
   ],
   "source": [
    "corr2 = df_clean.corr('spearman')[['target_encode']].sort_values(by='target_encode', ascending=False)\n",
    "top_positive = corr2[:10].index\n",
    "top_negative = corr2[104:114].index\n",
    "list(top_negative)"
   ]
  },
  {
   "cell_type": "code",
   "execution_count": 40,
   "metadata": {
    "scrolled": true
   },
   "outputs": [
    {
     "data": {
      "text/plain": [
       "['target_encode',\n",
       " 'flag_SF',\n",
       " 'dst_bytes',\n",
       " 'same_srv_rate',\n",
       " 'src_bytes',\n",
       " 'logged_in',\n",
       " 'dst_host_srv_count',\n",
       " 'dst_host_same_srv_rate',\n",
       " 'service_http',\n",
       " 'dst_host_srv_diff_host_rate']"
      ]
     },
     "execution_count": 40,
     "metadata": {},
     "output_type": "execute_result"
    }
   ],
   "source": [
    "list(top_positive)"
   ]
  },
  {
   "cell_type": "code",
   "execution_count": 41,
   "metadata": {},
   "outputs": [
    {
     "data": {
      "text/plain": [
       "['dst_host_count',\n",
       " 'service_private',\n",
       " 'count',\n",
       " 'dst_host_diff_srv_rate',\n",
       " 'dst_host_srv_serror_rate',\n",
       " 'srv_serror_rate',\n",
       " 'dst_host_serror_rate',\n",
       " 'flag_S0',\n",
       " 'serror_rate',\n",
       " 'diff_srv_rate',\n",
       " 'target_encode',\n",
       " 'flag_SF',\n",
       " 'dst_bytes',\n",
       " 'same_srv_rate',\n",
       " 'src_bytes',\n",
       " 'logged_in',\n",
       " 'dst_host_srv_count',\n",
       " 'dst_host_same_srv_rate',\n",
       " 'service_http',\n",
       " 'dst_host_srv_diff_host_rate']"
      ]
     },
     "execution_count": 41,
     "metadata": {},
     "output_type": "execute_result"
    }
   ],
   "source": [
    "corr_list = list(top_negative) + list(top_positive)\n",
    "corr_list"
   ]
  },
  {
   "cell_type": "code",
   "execution_count": 42,
   "metadata": {},
   "outputs": [
    {
     "data": {
      "image/png": "[encoded data removed]",
      "text/plain": [
       "<Figure size 1440x720 with 2 Axes>"
      ]
     },
     "metadata": {
      "needs_background": "light"
     },
     "output_type": "display_data"
    }
   ],
   "source": [
    "df_corr= df_clean[corr_list]\n",
    "\n",
    "plt.figure(figsize=(20,10))\n",
    "sns.heatmap(df_corr.corr(), annot = True, vmin=-1, vmax=1, center= 0)\n",
    "plt.show()"
   ]
  },
  {
   "cell_type": "markdown",
   "metadata": {},
   "source": [
    "## Clustering\n",
    "### Kmeans Clustering"
   ]
  },
  {
   "cell_type": "code",
   "execution_count": 43,
   "metadata": {},
   "outputs": [],
   "source": [
    "df_cluster = df_clean.drop(['label', 'target', 'target_encode'], axis=1)"
   ]
  },
  {
   "cell_type": "code",
   "execution_count": 44,
   "metadata": {},
   "outputs": [
    {
     "data": {
      "text/plain": [
       "KMeans(n_clusters=2, random_state=0)"
      ]
     },
     "execution_count": 44,
     "metadata": {},
     "output_type": "execute_result"
    }
   ],
   "source": [
    "from sklearn.cluster import KMeans\n",
    "\n",
    "kmeans = KMeans(n_clusters=2, random_state=0) \n",
    "\n",
    "kmeans.fit(df_cluster)"
   ]
  },
  {
   "cell_type": "code",
   "execution_count": 45,
   "metadata": {},
   "outputs": [
    {
     "data": {
      "text/plain": [
       "array([[3.03649756e+02, 9.17899631e+03, 3.49198579e+03, 7.93934342e-05,\n",
       "        2.37386368e-02, 3.96967171e-05, 1.98046922e-01, 1.19090151e-03,\n",
       "        3.94783851e-01, 2.27859156e-01, 1.54817197e-03, 1.34968838e-03,\n",
       "        2.49851137e-01, 1.47274820e-02, 3.57270454e-04, 4.32694216e-03,\n",
       "        0.00000000e+00, 0.00000000e+00, 9.13024493e-03, 8.45944980e+01,\n",
       "        2.76998134e+01, 2.86349093e-01, 2.83773570e-01, 1.18595133e-01,\n",
       "        1.20225477e-01, 6.60545433e-01, 6.23655274e-02, 9.59346592e-02,\n",
       "        1.82536223e+02, 1.15067524e+02, 5.19810250e-01, 8.25370172e-02,\n",
       "        1.47455440e-01, 3.18455004e-02, 2.85811599e-01, 2.79857489e-01,\n",
       "        1.17801596e-01, 1.18754317e-01, 8.14775118e-01, 1.19526815e-01,\n",
       "        8.73327776e-04, 6.82783534e-03, 7.50267953e-03, 5.79572069e-03,\n",
       "        6.51026160e-03, 4.40633560e-03, 5.04148307e-03, 4.24754873e-03,\n",
       "        4.16815529e-03, 4.32694216e-03, 7.22480251e-02, 2.58028661e-03,\n",
       "        3.60843158e-02, 2.43340876e-02, 4.36663888e-03, 3.61240125e-03,\n",
       "        1.45289985e-02, 1.36953674e-02, 5.54166170e-02, 4.32694216e-03,\n",
       "        3.81088484e-03, 3.17692827e-01, 4.48572903e-03, 3.96967171e-05,\n",
       "        5.47814696e-03, 5.20026994e-03, 3.65209797e-03, 2.65968004e-03,\n",
       "        3.57270454e-03, 3.37422095e-03, 3.13604065e-03, 3.57270454e-03,\n",
       "        3.65209797e-03, 3.37422095e-03, 3.01695050e-03, 2.65968004e-03,\n",
       "        3.09634393e-03, 4.88269620e-03, 2.42149974e-03, 1.27029495e-03,\n",
       "        3.40597833e-02, 1.19090151e-04, 6.74844190e-04, 2.10392601e-03,\n",
       "        4.76360605e-04, 1.72720416e-01, 1.19090151e-04, 6.74844190e-04,\n",
       "        7.93934342e-04, 4.36663888e-04, 5.75205431e-02, 1.82604899e-03,\n",
       "        2.30240959e-03, 2.65968004e-03, 4.52542575e-03, 3.49331110e-03,\n",
       "        1.91338176e-02, 7.93934342e-05, 6.15299115e-03, 1.58786868e-04,\n",
       "        4.92239292e-03, 6.23238458e-03, 5.27966337e-03, 4.24754873e-03,\n",
       "        5.75602398e-03, 8.79679251e-02, 1.20678020e-02, 7.93934342e-04,\n",
       "        1.97292684e-02, 2.78234290e-01, 3.49331110e-03, 8.33631059e-04,\n",
       "        5.95450756e-04, 5.94378945e-01, 1.70695883e-03],\n",
       "       [3.56820000e+04, 3.81709090e+08, 0.00000000e+00, 0.00000000e+00,\n",
       "        0.00000000e+00, 0.00000000e+00, 0.00000000e+00, 0.00000000e+00,\n",
       "        0.00000000e+00, 0.00000000e+00, 0.00000000e+00, 0.00000000e+00,\n",
       "        0.00000000e+00, 0.00000000e+00, 0.00000000e+00, 0.00000000e+00,\n",
       "        0.00000000e+00, 0.00000000e+00, 0.00000000e+00, 1.00000000e+00,\n",
       "        1.00000000e+00, 0.00000000e+00, 0.00000000e+00, 1.00000000e+00,\n",
       "        1.00000000e+00, 1.00000000e+00, 0.00000000e+00, 0.00000000e+00,\n",
       "        7.80000000e+01, 2.00000000e+00, 3.00000000e-02, 1.20000000e-01,\n",
       "        8.00000000e-02, 0.00000000e+00, 0.00000000e+00, 0.00000000e+00,\n",
       "        8.00000000e-02, 5.00000000e-01, 1.00000000e+00, 0.00000000e+00,\n",
       "        0.00000000e+00, 0.00000000e+00, 0.00000000e+00, 0.00000000e+00,\n",
       "        0.00000000e+00, 0.00000000e+00, 0.00000000e+00, 0.00000000e+00,\n",
       "        0.00000000e+00, 0.00000000e+00, 0.00000000e+00, 0.00000000e+00,\n",
       "        0.00000000e+00, 0.00000000e+00, 0.00000000e+00, 0.00000000e+00,\n",
       "        0.00000000e+00, 0.00000000e+00, 0.00000000e+00, 0.00000000e+00,\n",
       "        0.00000000e+00, 0.00000000e+00, 0.00000000e+00, 0.00000000e+00,\n",
       "        0.00000000e+00, 0.00000000e+00, 0.00000000e+00, 0.00000000e+00,\n",
       "        0.00000000e+00, 0.00000000e+00, 0.00000000e+00, 0.00000000e+00,\n",
       "        0.00000000e+00, 0.00000000e+00, 0.00000000e+00, 0.00000000e+00,\n",
       "        0.00000000e+00, 0.00000000e+00, 0.00000000e+00, 0.00000000e+00,\n",
       "        0.00000000e+00, 0.00000000e+00, 0.00000000e+00, 0.00000000e+00,\n",
       "        0.00000000e+00, 0.00000000e+00, 0.00000000e+00, 0.00000000e+00,\n",
       "        0.00000000e+00, 0.00000000e+00, 0.00000000e+00, 0.00000000e+00,\n",
       "        0.00000000e+00, 0.00000000e+00, 0.00000000e+00, 0.00000000e+00,\n",
       "        1.00000000e+00, 0.00000000e+00, 0.00000000e+00, 0.00000000e+00,\n",
       "        0.00000000e+00, 0.00000000e+00, 0.00000000e+00, 0.00000000e+00,\n",
       "        0.00000000e+00, 0.00000000e+00, 0.00000000e+00, 1.00000000e+00,\n",
       "        0.00000000e+00, 0.00000000e+00, 0.00000000e+00, 0.00000000e+00,\n",
       "        0.00000000e+00, 0.00000000e+00, 0.00000000e+00]])"
      ]
     },
     "execution_count": 45,
     "metadata": {},
     "output_type": "execute_result"
    }
   ],
   "source": [
    "kmeans.cluster_centers_"
   ]
  },
  {
   "cell_type": "code",
   "execution_count": 46,
   "metadata": {},
   "outputs": [
    {
     "data": {
      "text/plain": [
       "919578324200223.5"
      ]
     },
     "execution_count": 46,
     "metadata": {},
     "output_type": "execute_result"
    }
   ],
   "source": [
    "kmeans.inertia_"
   ]
  },
  {
   "cell_type": "code",
   "execution_count": 47,
   "metadata": {},
   "outputs": [
    {
     "data": {
      "image/png": "[encoded data removed]",
      "text/plain": [
       "<Figure size 720x360 with 1 Axes>"
      ]
     },
     "metadata": {
      "needs_background": "light"
     },
     "output_type": "display_data"
    }
   ],
   "source": [
    "#from sklearn.cluster import KMeans\n",
    "cs = []\n",
    "for i in range(1, 11):\n",
    "    kmeans = KMeans(n_clusters = i, init = 'k-means++', max_iter = 300, n_init = 10, random_state = 0)\n",
    "    kmeans.fit(df_cluster)\n",
    "    cs.append(kmeans.inertia_)\n",
    "plt.plot(range(1, 11), cs)\n",
    "plt.title('The Elbow Method')\n",
    "plt.xlabel('Number of clusters')\n",
    "plt.ylabel('CS')\n",
    "plt.show()"
   ]
  },
  {
   "cell_type": "markdown",
   "metadata": {},
   "source": [
    "**A good number for the groups are 2, elbow joint**\n",
    "> Thus we can group label into two lablels, **binary** as normal and attack access."
   ]
  },
  {
   "cell_type": "code",
   "execution_count": 48,
   "metadata": {},
   "outputs": [
    {
     "name": "stdout",
     "output_type": "stream",
     "text": [
      "Result: 11529 out of 25192 samples were correctly labeled.\n"
     ]
    }
   ],
   "source": [
    "labels = kmeans.labels_\n",
    "\n",
    "# check how many of the samples were correctly labeled\n",
    "y_cluster = df_clean['target_encode']\n",
    "correct_labels = sum(y_cluster == labels)\n",
    "\n",
    "print(\"Result: %d out of %d samples were correctly labeled.\" % (correct_labels, y_cluster.size))"
   ]
  },
  {
   "cell_type": "code",
   "execution_count": 49,
   "metadata": {},
   "outputs": [
    {
     "name": "stdout",
     "output_type": "stream",
     "text": [
      "Accuracy score: 0.46\n"
     ]
    }
   ],
   "source": [
    "print('Accuracy score: {0:0.2f}'. format(correct_labels/float(y_cluster.size)))"
   ]
  },
  {
   "cell_type": "markdown",
   "metadata": {},
   "source": [
    "**Clustering model had a perfomance of 0.46.%**"
   ]
  },
  {
   "cell_type": "markdown",
   "metadata": {},
   "source": [
    "## Classification\n",
    "### Building of classification model to classify access whether it's an attack or normall access "
   ]
  },
  {
   "cell_type": "markdown",
   "metadata": {},
   "source": [
    "## Separate dependent and independent feature"
   ]
  },
  {
   "cell_type": "code",
   "execution_count": 50,
   "metadata": {},
   "outputs": [],
   "source": [
    "X = df_clean.drop(['label', 'target', 'target_encode'], axis=1)\n",
    "y = df_clean['target_encode']"
   ]
  },
  {
   "cell_type": "markdown",
   "metadata": {},
   "source": [
    "### Split data into training and testing datasets"
   ]
  },
  {
   "cell_type": "code",
   "execution_count": 51,
   "metadata": {},
   "outputs": [],
   "source": [
    "from sklearn.model_selection import train_test_split\n",
    "\n",
    "X_train, X_test, y_train, y_test = train_test_split(X , y, test_size=0.25, random_state=0, stratify=y)"
   ]
  },
  {
   "cell_type": "markdown",
   "metadata": {},
   "source": [
    "### Logistic Regression"
   ]
  },
  {
   "cell_type": "code",
   "execution_count": 52,
   "metadata": {},
   "outputs": [],
   "source": [
    "# import the class\n",
    "from sklearn.linear_model import LogisticRegression\n",
    "\n",
    "# instantiate the model (using the default parameters)\n",
    "logreg = LogisticRegression()\n",
    "\n",
    "# fit the model with data\n",
    "logreg.fit(X_train, y_train)\n",
    "\n",
    "# predictions on test dataset\n",
    "logreg_pred = logreg.predict(X_test)"
   ]
  },
  {
   "cell_type": "code",
   "execution_count": 53,
   "metadata": {},
   "outputs": [
    {
     "data": {
      "text/plain": [
       "array([[2518,  418],\n",
       "       [ 343, 3019]])"
      ]
     },
     "execution_count": 53,
     "metadata": {},
     "output_type": "execute_result"
    }
   ],
   "source": [
    "# import the metrics class\n",
    "from sklearn import metrics\n",
    "cnf_matrix = metrics.confusion_matrix(y_test, logreg_pred)\n",
    "cnf_matrix"
   ]
  },
  {
   "cell_type": "code",
   "execution_count": 54,
   "metadata": {},
   "outputs": [
    {
     "data": {
      "text/plain": [
       "Text(0.5, 320.8, 'Predicted label')"
      ]
     },
     "execution_count": 54,
     "metadata": {},
     "output_type": "execute_result"
    },
    {
     "data": {
      "image/png": "[encoded data removed]",
      "text/plain": [
       "<Figure size 720x360 with 2 Axes>"
      ]
     },
     "metadata": {
      "needs_background": "light"
     },
     "output_type": "display_data"
    }
   ],
   "source": [
    "class_names=[0,1] # name  of classes\n",
    "fig, ax = plt.subplots()\n",
    "tick_marks = np.arange(len(class_names))\n",
    "plt.xticks(tick_marks, class_names)\n",
    "plt.yticks(tick_marks, class_names)\n",
    "# create heatmap\n",
    "sns.heatmap(pd.DataFrame(cnf_matrix), annot=True, cmap=\"YlGnBu\" ,fmt='g')\n",
    "ax.xaxis.set_label_position(\"top\")\n",
    "plt.tight_layout()\n",
    "plt.title('Confusion matrix', y=1.1)\n",
    "plt.ylabel('Actual label')\n",
    "plt.xlabel('Predicted label')"
   ]
  },
  {
   "cell_type": "code",
   "execution_count": 55,
   "metadata": {
    "scrolled": true
   },
   "outputs": [
    {
     "name": "stdout",
     "output_type": "stream",
     "text": [
      "              precision    recall  f1-score   support\n",
      "\n",
      "           0       0.88      0.86      0.87      2936\n",
      "           1       0.88      0.90      0.89      3362\n",
      "\n",
      "    accuracy                           0.88      6298\n",
      "   macro avg       0.88      0.88      0.88      6298\n",
      "weighted avg       0.88      0.88      0.88      6298\n",
      "\n"
     ]
    }
   ],
   "source": [
    "print(metrics.classification_report(y_test, logreg_pred))"
   ]
  },
  {
   "cell_type": "markdown",
   "metadata": {},
   "source": [
    "## Xgboost"
   ]
  },
  {
   "cell_type": "code",
   "execution_count": 56,
   "metadata": {},
   "outputs": [],
   "source": [
    "from xgboost import XGBClassifier\n",
    "from sklearn.metrics import confusion_matrix, precision_score, recall_score, f1_score"
   ]
  },
  {
   "cell_type": "code",
   "execution_count": 57,
   "metadata": {},
   "outputs": [
    {
     "name": "stdout",
     "output_type": "stream",
     "text": [
      "[18:07:52] WARNING: ../src/learner.cc:1115: Starting in XGBoost 1.3.0, the default evaluation metric used with the objective 'binary:logistic' was changed from 'error' to 'logloss'. Explicitly set eval_metric if you'd like to restore the old behavior.\n"
     ]
    }
   ],
   "source": [
    "xgb_model = XGBClassifier()\n",
    "xgb_model.fit(X_train, y_train)\n",
    "\n",
    "xgb_pred = xgb_model.predict(X_test)"
   ]
  },
  {
   "cell_type": "code",
   "execution_count": 58,
   "metadata": {},
   "outputs": [
    {
     "data": {
      "text/plain": [
       "array([[2923,   13],\n",
       "       [   8, 3354]])"
      ]
     },
     "execution_count": 58,
     "metadata": {},
     "output_type": "execute_result"
    }
   ],
   "source": [
    "cnf_matrix = metrics.confusion_matrix(y_test, xgb_pred)\n",
    "cnf_matrix"
   ]
  },
  {
   "cell_type": "code",
   "execution_count": 59,
   "metadata": {},
   "outputs": [
    {
     "data": {
      "text/plain": [
       "Text(0.5, 320.8, 'Predicted label')"
      ]
     },
     "execution_count": 59,
     "metadata": {},
     "output_type": "execute_result"
    },
    {
     "data": {
      "image/png": "[encoded data removed]",
      "text/plain": [
       "<Figure size 720x360 with 2 Axes>"
      ]
     },
     "metadata": {
      "needs_background": "light"
     },
     "output_type": "display_data"
    }
   ],
   "source": [
    "class_names=[0,1] # name  of classes\n",
    "fig, ax = plt.subplots()\n",
    "tick_marks = np.arange(len(class_names))\n",
    "plt.xticks(tick_marks, class_names)\n",
    "plt.yticks(tick_marks, class_names)\n",
    "# create heatmap\n",
    "sns.heatmap(pd.DataFrame(cnf_matrix), annot=True, cmap=\"YlGnBu\" ,fmt='g')\n",
    "ax.xaxis.set_label_position(\"top\")\n",
    "plt.tight_layout()\n",
    "plt.title('Confusion matrix', y=1.1)\n",
    "plt.ylabel('Actual label')\n",
    "plt.xlabel('Predicted label')"
   ]
  },
  {
   "cell_type": "code",
   "execution_count": 60,
   "metadata": {},
   "outputs": [
    {
     "name": "stdout",
     "output_type": "stream",
     "text": [
      "              precision    recall  f1-score   support\n",
      "\n",
      "           0       1.00      1.00      1.00      2936\n",
      "           1       1.00      1.00      1.00      3362\n",
      "\n",
      "    accuracy                           1.00      6298\n",
      "   macro avg       1.00      1.00      1.00      6298\n",
      "weighted avg       1.00      1.00      1.00      6298\n",
      "\n"
     ]
    }
   ],
   "source": [
    "print(metrics.classification_report(y_test, xgb_pred))"
   ]
  },
  {
   "cell_type": "code",
   "execution_count": 61,
   "metadata": {},
   "outputs": [],
   "source": [
    "## Random Forest Classifier"
   ]
  },
  {
   "cell_type": "markdown",
   "metadata": {},
   "source": [
    "### Ensemble Classification"
   ]
  },
  {
   "cell_type": "markdown",
   "metadata": {},
   "source": [
    "### bagging classifier"
   ]
  },
  {
   "cell_type": "code",
   "execution_count": 62,
   "metadata": {},
   "outputs": [],
   "source": [
    "from sklearn.svm import SVC\n",
    "from sklearn.ensemble import BaggingClassifier"
   ]
  },
  {
   "cell_type": "code",
   "execution_count": 63,
   "metadata": {},
   "outputs": [],
   "source": [
    "bagging_clf = BaggingClassifier(RandomForestClassifier(n_estimators=50),\n",
    "                       random_state=0).fit(X_train, y_train)"
   ]
  },
  {
   "cell_type": "code",
   "execution_count": 64,
   "metadata": {},
   "outputs": [],
   "source": [
    "bagging_clf_pred = bagging_clf.predict(X_test)"
   ]
  },
  {
   "cell_type": "code",
   "execution_count": 65,
   "metadata": {},
   "outputs": [
    {
     "data": {
      "text/plain": [
       "array([[2917,   19],\n",
       "       [   6, 3356]])"
      ]
     },
     "execution_count": 65,
     "metadata": {},
     "output_type": "execute_result"
    }
   ],
   "source": [
    "cnf_matrix = metrics.confusion_matrix(y_test, bagging_clf_pred)\n",
    "cnf_matrix"
   ]
  },
  {
   "cell_type": "code",
   "execution_count": 66,
   "metadata": {},
   "outputs": [
    {
     "name": "stdout",
     "output_type": "stream",
     "text": [
      "              precision    recall  f1-score   support\n",
      "\n",
      "           0       1.00      0.99      1.00      2936\n",
      "           1       0.99      1.00      1.00      3362\n",
      "\n",
      "    accuracy                           1.00      6298\n",
      "   macro avg       1.00      1.00      1.00      6298\n",
      "weighted avg       1.00      1.00      1.00      6298\n",
      "\n"
     ]
    }
   ],
   "source": [
    "print(metrics.classification_report(y_test, bagging_clf_pred))"
   ]
  },
  {
   "cell_type": "markdown",
   "metadata": {},
   "source": [
    "## Ensemble Voting classifier"
   ]
  },
  {
   "cell_type": "code",
   "execution_count": 67,
   "metadata": {},
   "outputs": [],
   "source": [
    "from sklearn.ensemble import VotingClassifier\n",
    "from sklearn.naive_bayes import GaussianNB"
   ]
  },
  {
   "cell_type": "code",
   "execution_count": 68,
   "metadata": {},
   "outputs": [],
   "source": [
    "clf1 = LogisticRegression(random_state=1)\n",
    "clf2 = RandomForestClassifier(n_estimators=50, random_state=1)\n",
    "clf3 = GaussianNB()\n",
    "\n",
    "\n",
    "eclf1 = VotingClassifier(estimators=[\n",
    "         ('lr', clf1), ('rf', clf2), ('gnb', clf3)], voting='hard')\n",
    "\n",
    "eclf1 = eclf1.fit(X_train, y_train)"
   ]
  },
  {
   "cell_type": "code",
   "execution_count": 69,
   "metadata": {},
   "outputs": [],
   "source": [
    "eclf1_pred = eclf1.predict(X_test)"
   ]
  },
  {
   "cell_type": "code",
   "execution_count": 70,
   "metadata": {},
   "outputs": [
    {
     "data": {
      "text/plain": [
       "array([[2517,  419],\n",
       "       [  36, 3326]])"
      ]
     },
     "execution_count": 70,
     "metadata": {},
     "output_type": "execute_result"
    }
   ],
   "source": [
    "cnf_matrix = metrics.confusion_matrix(y_test, eclf1_pred)\n",
    "cnf_matrix"
   ]
  },
  {
   "cell_type": "code",
   "execution_count": 71,
   "metadata": {},
   "outputs": [
    {
     "name": "stdout",
     "output_type": "stream",
     "text": [
      "              precision    recall  f1-score   support\n",
      "\n",
      "           0       0.99      0.86      0.92      2936\n",
      "           1       0.89      0.99      0.94      3362\n",
      "\n",
      "    accuracy                           0.93      6298\n",
      "   macro avg       0.94      0.92      0.93      6298\n",
      "weighted avg       0.93      0.93      0.93      6298\n",
      "\n"
     ]
    }
   ],
   "source": [
    "print(metrics.classification_report(y_test, eclf1_pred))"
   ]
  },
  {
   "cell_type": "markdown",
   "metadata": {},
   "source": [
    "## Neural Networks"
   ]
  },
  {
   "cell_type": "code",
   "execution_count": 72,
   "metadata": {},
   "outputs": [
    {
     "name": "stdout",
     "output_type": "stream",
     "text": [
      "Epoch 1/100\n",
      "WARNING:tensorflow:Layer dense is casting an input tensor from dtype float64 to the layer's dtype of float32, which is new behavior in TensorFlow 2.  The layer has dtype float32 because its dtype defaults to floatx.\n",
      "\n",
      "If you intended to run this layer in float32, you can safely ignore this warning. If in doubt, this warning is likely only an issue if you are porting a TensorFlow 1.X model to TensorFlow 2.\n",
      "\n",
      "To change all layers to have dtype float64 by default, call `tf.keras.backend.set_floatx('float64')`. To change just this layer, pass dtype='float64' to the layer constructor. If you are the author of this layer, you can disable autocasting by passing autocast=False to the base Layer constructor.\n",
      "\n",
      "591/591 [==============================] - 1s 2ms/step - loss: 646.0543 - accuracy: 0.8693 - precision: 0.8422 - recall: 0.9293\n",
      "Epoch 2/100\n",
      "591/591 [==============================] - 2s 3ms/step - loss: 0.2776 - accuracy: 0.9292 - precision: 0.8891 - recall: 0.9910\n",
      "Epoch 3/100\n",
      "591/591 [==============================] - 1s 2ms/step - loss: 0.2162 - accuracy: 0.9332 - precision: 0.8936 - recall: 0.9932\n",
      "Epoch 4/100\n",
      "591/591 [==============================] - 1s 2ms/step - loss: 0.2659 - accuracy: 0.9256 - precision: 0.8807 - recall: 0.9956\n",
      "Epoch 5/100\n",
      "591/591 [==============================] - 1s 2ms/step - loss: 0.2415 - accuracy: 0.9206 - precision: 0.8729 - recall: 0.9963\n",
      "Epoch 6/100\n",
      "591/591 [==============================] - 1s 2ms/step - loss: 0.2218 - accuracy: 0.9300 - precision: 0.8866 - recall: 0.9963\n",
      "Epoch 7/100\n",
      "591/591 [==============================] - 1s 2ms/step - loss: 0.1923 - accuracy: 0.9437 - precision: 0.9077 - recall: 0.9958\n",
      "Epoch 8/100\n",
      "591/591 [==============================] - 1s 2ms/step - loss: 0.1795 - accuracy: 0.9478 - precision: 0.9133 - recall: 0.9968\n",
      "Epoch 9/100\n",
      "591/591 [==============================] - 1s 3ms/step - loss: 0.1984 - accuracy: 0.9426 - precision: 0.9054 - recall: 0.9966\n",
      "Epoch 10/100\n",
      "591/591 [==============================] - 2s 3ms/step - loss: 0.1851 - accuracy: 0.9461 - precision: 0.9103 - recall: 0.9972\n",
      "Epoch 11/100\n",
      "591/591 [==============================] - 2s 3ms/step - loss: 0.1798 - accuracy: 0.9474 - precision: 0.9124 - recall: 0.9973\n",
      "Epoch 12/100\n",
      "591/591 [==============================] - 1s 2ms/step - loss: 0.9108 - accuracy: 0.6482 - precision: 0.6212 - recall: 0.8739\n",
      "Epoch 13/100\n",
      "591/591 [==============================] - 1s 2ms/step - loss: 0.6104 - accuracy: 0.6277 - precision: 0.5912 - recall: 0.9815\n",
      "Epoch 14/100\n",
      "591/591 [==============================] - 2s 4ms/step - loss: 0.3396 - accuracy: 0.8794 - precision: 0.8190 - recall: 0.9938\n",
      "Epoch 15/100\n",
      "591/591 [==============================] - 2s 3ms/step - loss: 0.3655 - accuracy: 0.8121 - precision: 0.7565 - recall: 0.9556\n",
      "Epoch 16/100\n",
      "591/591 [==============================] - 2s 3ms/step - loss: 0.5987 - accuracy: 0.6982 - precision: 0.6422 - recall: 0.9817\n",
      "Epoch 17/100\n",
      "591/591 [==============================] - 2s 3ms/step - loss: 0.4741 - accuracy: 0.8781 - precision: 0.8148 - recall: 0.9986\n",
      "Epoch 18/100\n",
      "591/591 [==============================] - 2s 3ms/step - loss: 0.2855 - accuracy: 0.9009 - precision: 0.8454 - recall: 0.9967\n",
      "Epoch 19/100\n",
      "591/591 [==============================] - 2s 3ms/step - loss: 0.2463 - accuracy: 0.9180 - precision: 0.8687 - recall: 0.9970\n",
      "Epoch 20/100\n",
      "591/591 [==============================] - 2s 3ms/step - loss: 0.2402 - accuracy: 0.9209 - precision: 0.8728 - recall: 0.9972\n",
      "Epoch 21/100\n",
      "591/591 [==============================] - 2s 4ms/step - loss: 0.2271 - accuracy: 0.9265 - precision: 0.8802 - recall: 0.9982\n",
      "Epoch 22/100\n",
      "591/591 [==============================] - 2s 4ms/step - loss: 0.3546 - accuracy: 0.8599 - precision: 0.7937 - recall: 0.9967\n",
      "Epoch 23/100\n",
      "591/591 [==============================] - 2s 3ms/step - loss: 0.5870 - accuracy: 0.8388 - precision: 0.7760 - recall: 0.9814\n",
      "Epoch 24/100\n",
      "591/591 [==============================] - 3s 5ms/step - loss: 0.2167 - accuracy: 0.9357 - precision: 0.8946 - recall: 0.9971\n",
      "Epoch 25/100\n",
      "591/591 [==============================] - 2s 3ms/step - loss: 0.3333 - accuracy: 0.9324 - precision: 0.8927 - recall: 0.9927\n",
      "Epoch 26/100\n",
      "591/591 [==============================] - 2s 4ms/step - loss: 0.2335 - accuracy: 0.9246 - precision: 0.8783 - recall: 0.9969\n",
      "Epoch 27/100\n",
      "591/591 [==============================] - 2s 3ms/step - loss: 0.2129 - accuracy: 0.9352 - precision: 0.8942 - recall: 0.9965\n",
      "Epoch 28/100\n",
      "591/591 [==============================] - 2s 4ms/step - loss: 0.2218 - accuracy: 0.9381 - precision: 0.9026 - recall: 0.9909\n",
      "Epoch 29/100\n",
      "591/591 [==============================] - 2s 3ms/step - loss: 0.2112 - accuracy: 0.9402 - precision: 0.9072 - recall: 0.9891\n",
      "Epoch 30/100\n",
      "591/591 [==============================] - 2s 4ms/step - loss: 0.1954 - accuracy: 0.9436 - precision: 0.9078 - recall: 0.9955\n",
      "Epoch 31/100\n",
      "591/591 [==============================] - 2s 3ms/step - loss: 0.1953 - accuracy: 0.9436 - precision: 0.9078 - recall: 0.9955\n",
      "Epoch 32/100\n",
      "591/591 [==============================] - 2s 3ms/step - loss: 0.1952 - accuracy: 0.9436 - precision: 0.9078 - recall: 0.9955\n",
      "Epoch 33/100\n",
      "591/591 [==============================] - 2s 4ms/step - loss: 0.1953 - accuracy: 0.9436 - precision: 0.9078 - recall: 0.9955\n",
      "Epoch 34/100\n",
      "591/591 [==============================] - 2s 3ms/step - loss: 0.1956 - accuracy: 0.9436 - precision: 0.9078 - recall: 0.9955\n",
      "Epoch 35/100\n",
      "591/591 [==============================] - 1s 2ms/step - loss: 0.1963 - accuracy: 0.9435 - precision: 0.9078 - recall: 0.9951\n",
      "Epoch 36/100\n",
      "591/591 [==============================] - 1s 2ms/step - loss: 0.2356 - accuracy: 0.9339 - precision: 0.8924 - recall: 0.9963\n",
      "Epoch 37/100\n",
      "591/591 [==============================] - 1s 2ms/step - loss: 0.2170 - accuracy: 0.9336 - precision: 0.8918 - recall: 0.9965\n",
      "Epoch 38/100\n",
      "591/591 [==============================] - 2s 3ms/step - loss: 0.2169 - accuracy: 0.9336 - precision: 0.8918 - recall: 0.9965\n",
      "Epoch 39/100\n",
      "591/591 [==============================] - 1s 2ms/step - loss: 0.2170 - accuracy: 0.9336 - precision: 0.8918 - recall: 0.9965\n",
      "Epoch 40/100\n",
      "591/591 [==============================] - 1s 2ms/step - loss: 0.2169 - accuracy: 0.9336 - precision: 0.8918 - recall: 0.9965\n",
      "Epoch 41/100\n",
      "591/591 [==============================] - 1s 2ms/step - loss: 0.2171 - accuracy: 0.9336 - precision: 0.8918 - recall: 0.9965\n",
      "Epoch 42/100\n",
      "591/591 [==============================] - 1s 2ms/step - loss: 0.2168 - accuracy: 0.9336 - precision: 0.8918 - recall: 0.9965\n",
      "Epoch 43/100\n",
      "591/591 [==============================] - 1s 2ms/step - loss: 0.2169 - accuracy: 0.9336 - precision: 0.8918 - recall: 0.9965\n",
      "Epoch 44/100\n",
      "591/591 [==============================] - 1s 2ms/step - loss: 0.2170 - accuracy: 0.9336 - precision: 0.8918 - recall: 0.9965\n",
      "Epoch 45/100\n",
      "591/591 [==============================] - 1s 2ms/step - loss: 0.2165 - accuracy: 0.9336 - precision: 0.8918 - recall: 0.9965\n",
      "Epoch 46/100\n",
      "591/591 [==============================] - 1s 2ms/step - loss: 0.2173 - accuracy: 0.9336 - precision: 0.8918 - recall: 0.9965\n",
      "Epoch 47/100\n",
      "591/591 [==============================] - 1s 2ms/step - loss: 0.2171 - accuracy: 0.9336 - precision: 0.8918 - recall: 0.9965\n",
      "Epoch 48/100\n",
      "591/591 [==============================] - 1s 2ms/step - loss: 0.2172 - accuracy: 0.9336 - precision: 0.8918 - recall: 0.9965\n",
      "Epoch 49/100\n",
      "591/591 [==============================] - 1s 2ms/step - loss: 0.2169 - accuracy: 0.9336 - precision: 0.8918 - recall: 0.9965\n",
      "Epoch 50/100\n",
      "591/591 [==============================] - 1s 2ms/step - loss: 0.2173 - accuracy: 0.9336 - precision: 0.8918 - recall: 0.9965\n",
      "Epoch 51/100\n",
      "591/591 [==============================] - 2s 3ms/step - loss: 0.2169 - accuracy: 0.9336 - precision: 0.8918 - recall: 0.9965\n",
      "Epoch 52/100\n",
      "591/591 [==============================] - 2s 3ms/step - loss: 0.2168 - accuracy: 0.9336 - precision: 0.8918 - recall: 0.9965\n",
      "Epoch 53/100\n",
      "591/591 [==============================] - 2s 3ms/step - loss: 0.2169 - accuracy: 0.9336 - precision: 0.8918 - recall: 0.9965\n",
      "Epoch 54/100\n"
     ]
    },
    {
     "name": "stdout",
     "output_type": "stream",
     "text": [
      "591/591 [==============================] - 1s 2ms/step - loss: 0.2171 - accuracy: 0.9336 - precision: 0.8918 - recall: 0.9965\n",
      "Epoch 55/100\n",
      "591/591 [==============================] - 1s 2ms/step - loss: 0.2168 - accuracy: 0.9336 - precision: 0.8918 - recall: 0.9965\n",
      "Epoch 56/100\n",
      "591/591 [==============================] - 1s 2ms/step - loss: 0.2171 - accuracy: 0.9336 - precision: 0.8918 - recall: 0.9965\n",
      "Epoch 57/100\n",
      "591/591 [==============================] - 1s 2ms/step - loss: 0.2169 - accuracy: 0.9336 - precision: 0.8918 - recall: 0.9965\n",
      "Epoch 58/100\n",
      "591/591 [==============================] - 1s 2ms/step - loss: 0.2171 - accuracy: 0.9336 - precision: 0.8918 - recall: 0.9965\n",
      "Epoch 59/100\n",
      "591/591 [==============================] - 1s 2ms/step - loss: 0.2168 - accuracy: 0.9336 - precision: 0.8918 - recall: 0.9965\n",
      "Epoch 60/100\n",
      "591/591 [==============================] - 1s 2ms/step - loss: 0.2169 - accuracy: 0.9336 - precision: 0.8918 - recall: 0.9965\n",
      "Epoch 61/100\n",
      "591/591 [==============================] - 2s 3ms/step - loss: 0.2168 - accuracy: 0.9336 - precision: 0.8918 - recall: 0.9965\n",
      "Epoch 62/100\n",
      "591/591 [==============================] - 2s 4ms/step - loss: 0.2167 - accuracy: 0.9336 - precision: 0.8918 - recall: 0.9965\n",
      "Epoch 63/100\n",
      "591/591 [==============================] - 2s 4ms/step - loss: 0.2165 - accuracy: 0.9336 - precision: 0.8918 - recall: 0.9965\n",
      "Epoch 64/100\n",
      "591/591 [==============================] - 2s 3ms/step - loss: 0.2168 - accuracy: 0.9336 - precision: 0.8918 - recall: 0.9965\n",
      "Epoch 65/100\n",
      "591/591 [==============================] - 1s 2ms/step - loss: 0.2170 - accuracy: 0.9336 - precision: 0.8918 - recall: 0.9965\n",
      "Epoch 66/100\n",
      "591/591 [==============================] - 1s 2ms/step - loss: 0.2169 - accuracy: 0.9336 - precision: 0.8918 - recall: 0.9965\n",
      "Epoch 67/100\n",
      "591/591 [==============================] - 1s 2ms/step - loss: 0.2169 - accuracy: 0.9336 - precision: 0.8918 - recall: 0.9965\n",
      "Epoch 68/100\n",
      "591/591 [==============================] - 2s 3ms/step - loss: 0.2167 - accuracy: 0.9336 - precision: 0.8918 - recall: 0.9965\n",
      "Epoch 69/100\n",
      "591/591 [==============================] - 1s 2ms/step - loss: 0.2169 - accuracy: 0.9336 - precision: 0.8918 - recall: 0.9965\n",
      "Epoch 70/100\n",
      "591/591 [==============================] - 2s 3ms/step - loss: 0.2170 - accuracy: 0.9336 - precision: 0.8918 - recall: 0.9965\n",
      "Epoch 71/100\n",
      "591/591 [==============================] - 1s 2ms/step - loss: 0.2167 - accuracy: 0.9336 - precision: 0.8918 - recall: 0.9965\n",
      "Epoch 72/100\n",
      "591/591 [==============================] - 1s 2ms/step - loss: 0.2169 - accuracy: 0.9336 - precision: 0.8918 - recall: 0.9965\n",
      "Epoch 73/100\n",
      "591/591 [==============================] - 1s 2ms/step - loss: 0.2165 - accuracy: 0.9336 - precision: 0.8918 - recall: 0.9965\n",
      "Epoch 74/100\n",
      "591/591 [==============================] - 1s 2ms/step - loss: 0.2169 - accuracy: 0.9336 - precision: 0.8918 - recall: 0.9965\n",
      "Epoch 75/100\n",
      "591/591 [==============================] - 1s 2ms/step - loss: 0.2169 - accuracy: 0.9336 - precision: 0.8918 - recall: 0.9965\n",
      "Epoch 76/100\n",
      "591/591 [==============================] - 1s 2ms/step - loss: 0.2168 - accuracy: 0.9336 - precision: 0.8918 - recall: 0.9965\n",
      "Epoch 77/100\n",
      "591/591 [==============================] - 1s 2ms/step - loss: 0.2167 - accuracy: 0.9336 - precision: 0.8918 - recall: 0.9965\n",
      "Epoch 78/100\n",
      "591/591 [==============================] - 1s 2ms/step - loss: 0.2170 - accuracy: 0.9336 - precision: 0.8918 - recall: 0.9965\n",
      "Epoch 79/100\n",
      "591/591 [==============================] - 1s 2ms/step - loss: 0.2168 - accuracy: 0.9336 - precision: 0.8918 - recall: 0.9965\n",
      "Epoch 80/100\n",
      "591/591 [==============================] - 1s 2ms/step - loss: 0.2167 - accuracy: 0.9336 - precision: 0.8918 - recall: 0.9965\n",
      "Epoch 81/100\n",
      "591/591 [==============================] - 1s 2ms/step - loss: 0.2170 - accuracy: 0.9336 - precision: 0.8918 - recall: 0.9965\n",
      "Epoch 82/100\n",
      "591/591 [==============================] - 1s 2ms/step - loss: 0.2168 - accuracy: 0.9336 - precision: 0.8918 - recall: 0.9965\n",
      "Epoch 83/100\n",
      "591/591 [==============================] - 1s 2ms/step - loss: 0.2167 - accuracy: 0.9336 - precision: 0.8918 - recall: 0.9965\n",
      "Epoch 84/100\n",
      "591/591 [==============================] - 1s 2ms/step - loss: 0.2168 - accuracy: 0.9336 - precision: 0.8918 - recall: 0.9965\n",
      "Epoch 85/100\n",
      "591/591 [==============================] - 1s 2ms/step - loss: 0.2168 - accuracy: 0.9336 - precision: 0.8918 - recall: 0.9965\n",
      "Epoch 86/100\n",
      "591/591 [==============================] - 1s 2ms/step - loss: 0.2168 - accuracy: 0.9336 - precision: 0.8918 - recall: 0.9965\n",
      "Epoch 87/100\n",
      "591/591 [==============================] - 1s 2ms/step - loss: 0.2170 - accuracy: 0.9336 - precision: 0.8918 - recall: 0.9965\n",
      "Epoch 88/100\n",
      "591/591 [==============================] - 1s 2ms/step - loss: 0.2171 - accuracy: 0.9336 - precision: 0.8918 - recall: 0.9965\n",
      "Epoch 89/100\n",
      "591/591 [==============================] - 1s 2ms/step - loss: 0.3301 - accuracy: 0.8875 - precision: 0.8332 - recall: 0.9868\n",
      "Epoch 90/100\n",
      "591/591 [==============================] - 2s 3ms/step - loss: 7.1630 - accuracy: 0.9150 - precision: 0.8655 - recall: 0.9955\n",
      "Epoch 91/100\n",
      "591/591 [==============================] - 1s 2ms/step - loss: 0.2336 - accuracy: 0.9361 - precision: 0.9150 - recall: 0.9705\n",
      "Epoch 92/100\n",
      "591/591 [==============================] - 1s 2ms/step - loss: 0.2297 - accuracy: 0.9377 - precision: 0.9177 - recall: 0.9703\n",
      "Epoch 93/100\n",
      "591/591 [==============================] - 2s 3ms/step - loss: 0.2298 - accuracy: 0.9377 - precision: 0.9177 - recall: 0.9703\n",
      "Epoch 94/100\n",
      "591/591 [==============================] - 1s 2ms/step - loss: 0.2299 - accuracy: 0.9377 - precision: 0.9177 - recall: 0.9703\n",
      "Epoch 95/100\n",
      "591/591 [==============================] - 1s 2ms/step - loss: 0.2304 - accuracy: 0.9377 - precision: 0.9177 - recall: 0.9703\n",
      "Epoch 96/100\n",
      "591/591 [==============================] - 2s 3ms/step - loss: 0.2294 - accuracy: 0.9377 - precision: 0.9177 - recall: 0.9703\n",
      "Epoch 97/100\n",
      "591/591 [==============================] - 1s 2ms/step - loss: 0.2300 - accuracy: 0.9377 - precision: 0.9177 - recall: 0.9703\n",
      "Epoch 98/100\n",
      "591/591 [==============================] - 1s 2ms/step - loss: 0.2299 - accuracy: 0.9377 - precision: 0.9177 - recall: 0.9703\n",
      "Epoch 99/100\n",
      "591/591 [==============================] - 1s 2ms/step - loss: 0.2295 - accuracy: 0.9377 - precision: 0.9177 - recall: 0.9703\n",
      "Epoch 100/100\n",
      "591/591 [==============================] - 1s 2ms/step - loss: 0.2300 - accuracy: 0.9377 - precision: 0.9177 - recall: 0.9703\n"
     ]
    }
   ],
   "source": [
    "import tensorflow as tf\n",
    "tf.random.set_seed(42)\n",
    "model = tf.keras.Sequential([\n",
    "    tf.keras.layers.Dense(128, activation='relu'),\n",
    "    tf.keras.layers.Dense(256, activation='relu'),\n",
    "    tf.keras.layers.Dense(256, activation='relu'),\n",
    "    tf.keras.layers.Dense(1, activation='sigmoid')\n",
    "])\n",
    "model.compile(\n",
    "    loss=tf.keras.losses.binary_crossentropy,\n",
    "    optimizer=tf.keras.optimizers.Adam(lr=0.03),\n",
    "    metrics=[\n",
    "        tf.keras.metrics.BinaryAccuracy(name='accuracy'),\n",
    "        tf.keras.metrics.Precision(name='precision'),\n",
    "        tf.keras.metrics.Recall(name='recall')\n",
    "    ]\n",
    ")\n",
    "history = model.fit(X_train, y_train, epochs=100)"
   ]
  },
  {
   "cell_type": "code",
   "execution_count": 73,
   "metadata": {},
   "outputs": [
    {
     "data": {
      "text/plain": [
       "array([[0.02708414],\n",
       "       [0.90616083],\n",
       "       [0.90616083],\n",
       "       ...,\n",
       "       [0.02708414],\n",
       "       [0.02708414],\n",
       "       [0.90616083]], dtype=float32)"
      ]
     },
     "execution_count": 73,
     "metadata": {},
     "output_type": "execute_result"
    }
   ],
   "source": [
    "neural_pred = model.predict(X_test)\n",
    "neural_pred"
   ]
  },
  {
   "cell_type": "code",
   "execution_count": 74,
   "metadata": {},
   "outputs": [
    {
     "data": {
      "text/plain": [
       "[0, 1, 1, 1, 1, 1, 0, 1, 1, 1, 1, 0, 0, 0, 0, 1, 0, 0, 0, 1]"
      ]
     },
     "execution_count": 74,
     "metadata": {},
     "output_type": "execute_result"
    }
   ],
   "source": [
    "prediction_classes = [\n",
    "    1 if prob > 0.5 else 0 for prob in np.ravel(neural_pred)\n",
    "]\n",
    "prediction_classes[:20]"
   ]
  },
  {
   "cell_type": "code",
   "execution_count": 75,
   "metadata": {},
   "outputs": [
    {
     "data": {
      "text/plain": [
       "array([[2611,  325],\n",
       "       [ 114, 3248]])"
      ]
     },
     "execution_count": 75,
     "metadata": {},
     "output_type": "execute_result"
    }
   ],
   "source": [
    "cnf_matrix = metrics.confusion_matrix(y_test, prediction_classes)\n",
    "cnf_matrix"
   ]
  },
  {
   "cell_type": "code",
   "execution_count": 76,
   "metadata": {},
   "outputs": [
    {
     "data": {
      "text/plain": [
       "Text(0.5, 320.8, 'Predicted label')"
      ]
     },
     "execution_count": 76,
     "metadata": {},
     "output_type": "execute_result"
    },
    {
     "data": {
      "image/png": "[encoded data removed]",
      "text/plain": [
       "<Figure size 720x360 with 2 Axes>"
      ]
     },
     "metadata": {
      "needs_background": "light"
     },
     "output_type": "display_data"
    }
   ],
   "source": [
    "class_names=[0,1] # name  of classes\n",
    "fig, ax = plt.subplots()\n",
    "tick_marks = np.arange(len(class_names))\n",
    "plt.xticks(tick_marks, class_names)\n",
    "plt.yticks(tick_marks, class_names)\n",
    "# create heatmap\n",
    "sns.heatmap(pd.DataFrame(cnf_matrix), annot=True, cmap=\"YlGnBu\" ,fmt='g')\n",
    "ax.xaxis.set_label_position(\"top\")\n",
    "plt.tight_layout()\n",
    "plt.title('Confusion matrix', y=1.1)\n",
    "plt.ylabel('Actual label')\n",
    "plt.xlabel('Predicted label')"
   ]
  },
  {
   "cell_type": "code",
   "execution_count": 77,
   "metadata": {},
   "outputs": [
    {
     "name": "stdout",
     "output_type": "stream",
     "text": [
      "              precision    recall  f1-score   support\n",
      "\n",
      "           0       0.96      0.89      0.92      2936\n",
      "           1       0.91      0.97      0.94      3362\n",
      "\n",
      "    accuracy                           0.93      6298\n",
      "   macro avg       0.93      0.93      0.93      6298\n",
      "weighted avg       0.93      0.93      0.93      6298\n",
      "\n"
     ]
    }
   ],
   "source": [
    "print(metrics.classification_report(y_test, prediction_classes))"
   ]
  },
  {
   "cell_type": "code",
   "execution_count": null,
   "metadata": {},
   "outputs": [],
   "source": []
  }
 ],
 "metadata": {
  "kernelspec": {
   "display_name": "Python 3 (ipykernel)",
   "language": "python",
   "name": "python3"
  },
  "language_info": {
   "codemirror_mode": {
    "name": "ipython",
    "version": 3
   },
   "file_extension": ".py",
   "mimetype": "text/x-python",
   "name": "python",
   "nbconvert_exporter": "python",
   "pygments_lexer": "ipython3",
   "version": "3.7.4"
  }
 },
 "nbformat": 4,
 "nbformat_minor": 4
}
